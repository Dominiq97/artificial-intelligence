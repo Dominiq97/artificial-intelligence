{
 "cells": [
  {
   "cell_type": "markdown",
   "metadata": {},
   "source": [
    "## State-Space Search"
   ]
  },
  {
   "cell_type": "code",
   "execution_count": 1,
   "metadata": {},
   "outputs": [
    {
     "data": {
      "image/png": "[encoded data removed]",
      "text/plain": [
       "<Figure size 432x288 with 1 Axes>"
      ]
     },
     "metadata": {
      "needs_background": "light"
     },
     "output_type": "display_data"
    }
   ],
   "source": [
    "height = 10\n",
    "width = 20\n",
    "labyrinth = [[0 for c in range(width)] for r in range(height)]\n",
    "\n",
    "for r in range(2, 7):\n",
    "    labyrinth[r][6] = 1\n",
    "    labyrinth[6][r] = 1\n",
    "labyrinth[2][7] = 1\n",
    "\n",
    "%matplotlib inline\n",
    "import matplotlib.pyplot as pyplot\n",
    "pyplot.imshow(labyrinth, cmap='Greys', interpolation='nearest');"
   ]
  },
  {
   "cell_type": "markdown",
   "metadata": {},
   "source": [
    "## Advanced functions\n"
   ]
  },
  {
   "cell_type": "code",
   "execution_count": 2,
   "metadata": {},
   "outputs": [],
   "source": [
    "start = (5, 5)\n",
    "\n",
    "final = (8, 8)\n",
    "is_final = lambda position: position == final"
   ]
  },
  {
   "cell_type": "code",
   "execution_count": 3,
   "metadata": {},
   "outputs": [
    {
     "data": {
      "text/plain": [
       "[False, False, True]"
      ]
     },
     "execution_count": 3,
     "metadata": {},
     "output_type": "execute_result"
    }
   ],
   "source": [
    "list(map(is_final, [(1,1), (3, 6), (8, 8)]))"
   ]
  },
  {
   "cell_type": "code",
   "execution_count": 4,
   "metadata": {},
   "outputs": [
    {
     "data": {
      "text/plain": [
       "[(8, 8)]"
      ]
     },
     "execution_count": 4,
     "metadata": {},
     "output_type": "execute_result"
    }
   ],
   "source": [
    "list(filter(is_final, [(1,1), (3, 6), (8, 8)]))"
   ]
  },
  {
   "cell_type": "markdown",
   "metadata": {},
   "source": [
    "## The A* algorithm"
   ]
  },
  {
   "cell_type": "markdown",
   "metadata": {},
   "source": [
    "### Task 0\n",
    "\n",
    "Given a certain position represented by a `tuple`, find if its location is valid.\n"
   ]
  },
  {
   "cell_type": "code",
   "execution_count": 5,
   "metadata": {},
   "outputs": [],
   "source": [
    "def verify_location(position):\n",
    "    (x, y) = position\n",
    "    if (x >= 0) and (x<height) and (y>=0) and (y<width) and (labyrinth[x][y]==0):\n",
    "        return True\n",
    "    return False"
   ]
  },
  {
   "cell_type": "code",
   "execution_count": 6,
   "metadata": {},
   "outputs": [
    {
     "data": {
      "text/plain": [
       "[False, False, False, True, False, True]"
      ]
     },
     "execution_count": 6,
     "metadata": {},
     "output_type": "execute_result"
    }
   ],
   "source": [
    "list(map(verify_location, [(-1,2), (height,3), (width,4), (5,5), (6,6), (0,9)])) "
   ]
  },
  {
   "cell_type": "markdown",
   "metadata": {},
   "source": [
    "**b.** Once you have verified the position, return its empty neighbours in a `list`."
   ]
  },
  {
   "cell_type": "code",
   "execution_count": 7,
   "metadata": {},
   "outputs": [],
   "source": [
    "def get_neighbours(position):\n",
    "    result = []\n",
    "    (x,y) = position\n",
    "    result.append((x-1,y-1))\n",
    "    result.append((x-1,y))\n",
    "    result.append((x-1,y+1))\n",
    "    result.append((x,y+1))\n",
    "    result.append((x+1,y+1))\n",
    "    result.append((x+1,y))\n",
    "    result.append((x+1,y-1))\n",
    "    result.append((x,y-1))\n",
    "    result = list(filter(verify_location, result))\n",
    "    return result"
   ]
  },
  {
   "cell_type": "code",
   "execution_count": 8,
   "metadata": {},
   "outputs": [
    {
     "data": {
      "text/plain": [
       "[[(0, 10), (1, 10), (1, 9), (1, 8), (0, 8)], [(4, 4), (4, 5), (5, 4)]]"
      ]
     },
     "execution_count": 8,
     "metadata": {},
     "output_type": "execute_result"
    }
   ],
   "source": [
    "\n",
    "[get_neighbours(p) for p in [(0,9), (5,5)]]"
   ]
  },
  {
   "cell_type": "markdown",
   "metadata": {},
   "source": [
    "### Heuristic search\n"
   ]
  },
  {
   "cell_type": "markdown",
   "metadata": {},
   "source": [
    "### Task 1\n",
    "\n",
    "**a.** Compute the _Euclidean distance_:\n"
   ]
  },
  {
   "cell_type": "code",
   "execution_count": 9,
   "metadata": {},
   "outputs": [],
   "source": [
    "from math import sqrt"
   ]
  },
  {
   "cell_type": "code",
   "execution_count": 10,
   "metadata": {},
   "outputs": [],
   "source": [
    "def euclidean_distance(x, y):\n",
    "    distance = sqrt((x[0]-y[0])*(x[0]-y[0])+(x[1]-y[1])*(x[1]-y[1]))\n",
    "    return distance"
   ]
  },
  {
   "cell_type": "code",
   "execution_count": 11,
   "metadata": {},
   "outputs": [
    {
     "data": {
      "text/plain": [
       "4.47213595499958"
      ]
     },
     "execution_count": 11,
     "metadata": {},
     "output_type": "execute_result"
    }
   ],
   "source": [
    "euclidean_distance((2,3), (4, 7))"
   ]
  },
  {
   "cell_type": "markdown",
   "metadata": {},
   "source": [
    "**b.** Compute the _Manhattan distance_:"
   ]
  },
  {
   "cell_type": "code",
   "execution_count": 12,
   "metadata": {},
   "outputs": [],
   "source": [
    "def manhattan_distance(x, y):\n",
    "    distance = abs(x[0]-x[1])+abs(y[0]-y[1])\n",
    "    return distance"
   ]
  },
  {
   "cell_type": "code",
   "execution_count": 13,
   "metadata": {},
   "outputs": [
    {
     "data": {
      "text/plain": [
       "5"
      ]
     },
     "execution_count": 13,
     "metadata": {},
     "output_type": "execute_result"
    }
   ],
   "source": [
    "manhattan_distance((2,3), (4,0))"
   ]
  },
  {
   "cell_type": "markdown",
   "metadata": {},
   "source": [
    "**Priority Queue**. "
   ]
  },
  {
   "cell_type": "code",
   "execution_count": 14,
   "metadata": {},
   "outputs": [
    {
     "name": "stdout",
     "output_type": "stream",
     "text": [
      "((0, 1), 'cost_so_far: 1')\n",
      "((1, 2), 'cost_so_far: 2')\n",
      "((1, 4), 'cost_so_far: 3')\n"
     ]
    }
   ],
   "source": [
    "from heapq import heappop, heappush\n",
    "\n",
    "priority_queue = []\n",
    "heappush(priority_queue, ((1, 2), 'cost_so_far: 2'))\n",
    "heappush(priority_queue, ((0, 1), 'cost_so_far: 1'))\n",
    "heappush(priority_queue, ((1, 4), 'cost_so_far: 3'))\n",
    "\n",
    "print(heappop(priority_queue))\n",
    "print(heappop(priority_queue))\n",
    "print(heappop(priority_queue))"
   ]
  },
  {
   "cell_type": "markdown",
   "metadata": {},
   "source": [
    "### Task 2\n",
    "\n",
    "**a.** Implement **A\\*** "
   ]
  },
  {
   "cell_type": "code",
   "execution_count": 15,
   "metadata": {},
   "outputs": [],
   "source": [
    "from heapq import heappop, heappush"
   ]
  },
  {
   "cell_type": "code",
   "execution_count": 21,
   "metadata": {},
   "outputs": [],
   "source": [
    "def astar(start, end, h):\n",
    "    frontier = []\n",
    "    heappush(frontier, (0 + h(start, end), start))\n",
    "    discovered = {start: (None, 0)}\n",
    "    while frontier:\n",
    "        (estimated_cost, node) = heappop(frontier)\n",
    "        if node != final:\n",
    "            neighbours = get_neighbours(node)\n",
    "            for n in neighbours:               \n",
    "                gcost = estimated_cost - h(node, end)+1 \n",
    "                cost = gcost + h(n, end)\n",
    "                if n in discovered.keys():\n",
    "                    if gcost < discovered[n][1]: \n",
    "                        heappush(frontier, (cost, n))\n",
    "                        discovered[n] = (node, gcost)\n",
    "                else:\n",
    "                    heappush(frontier, (cost, n))\n",
    "                    discovered[n] = (node, gcost)\n",
    "        else:\n",
    "            break\n",
    "    cost_map = [[discovered[(r,c)][1] if (r,c) in discovered else 0 for c in range(width)]for r in range(height)]\n",
    "    pyplot.imshow(cost_map , cmap='Greys', interpolation='nearest');        \n",
    "    path = discovered\n",
    "    return path \n"
   ]
  },
  {
   "cell_type": "code",
   "execution_count": 22,
   "metadata": {},
   "outputs": [
    {
     "data": {
      "text/plain": [
       "{(5, 5): (None, 0),\n",
       " (4, 4): ((5, 5), 1.0),\n",
       " (4, 5): ((5, 5), 1.0),\n",
       " (5, 4): ((5, 5), 1.0),\n",
       " (3, 4): ((4, 5), 2.0),\n",
       " (3, 5): ((4, 5), 2.0),\n",
       " (4, 3): ((5, 4), 2.0),\n",
       " (5, 3): ((5, 4), 2.0),\n",
       " (3, 3): ((4, 4), 2.0),\n",
       " (2, 4): ((3, 5), 3.0),\n",
       " (2, 5): ((3, 5), 3.0),\n",
       " (4, 2): ((5, 3), 3.0),\n",
       " (5, 2): ((5, 3), 3.0),\n",
       " (2, 3): ((3, 4), 3.0),\n",
       " (3, 2): ((4, 3), 3.0),\n",
       " (2, 2): ((3, 3), 3.0),\n",
       " (1, 4): ((2, 5), 4.0),\n",
       " (1, 5): ((2, 5), 4.0),\n",
       " (1, 6): ((2, 5), 4.0),\n",
       " (4, 1): ((5, 2), 4.0),\n",
       " (6, 1): ((5, 2), 4.0),\n",
       " (5, 1): ((5, 2), 4.0),\n",
       " (1, 3): ((2, 3), 4.0),\n",
       " (3, 1): ((3, 2), 4.0),\n",
       " (1, 2): ((2, 3), 4.0),\n",
       " (2, 1): ((3, 2), 4.0),\n",
       " (0, 5): ((1, 6), 4.999999999999999),\n",
       " (0, 6): ((1, 6), 4.999999999999999),\n",
       " (0, 7): ((1, 6), 4.999999999999999),\n",
       " (1, 7): ((1, 6), 4.999999999999999),\n",
       " (5, 0): ((6, 1), 4.999999999999999),\n",
       " (7, 2): ((6, 1), 4.999999999999999),\n",
       " (7, 1): ((6, 1), 4.999999999999999),\n",
       " (7, 0): ((6, 1), 4.999999999999999),\n",
       " (6, 0): ((6, 1), 4.999999999999999),\n",
       " (7, 3): ((7, 2), 5.999999999999999),\n",
       " (8, 3): ((7, 2), 5.999999999999999),\n",
       " (8, 2): ((7, 2), 5.999999999999999),\n",
       " (8, 1): ((7, 2), 5.999999999999999),\n",
       " (7, 4): ((8, 3), 7.0),\n",
       " (8, 4): ((8, 3), 7.0),\n",
       " (9, 4): ((8, 3), 7.0),\n",
       " (9, 3): ((8, 3), 7.0),\n",
       " (9, 2): ((8, 3), 7.0),\n",
       " (7, 5): ((8, 4), 8.0),\n",
       " (8, 5): ((8, 4), 8.0),\n",
       " (9, 5): ((8, 4), 8.0),\n",
       " (7, 6): ((8, 5), 9.0),\n",
       " (8, 6): ((8, 5), 9.0),\n",
       " (9, 6): ((8, 5), 9.0),\n",
       " (7, 7): ((8, 6), 10.0),\n",
       " (8, 7): ((8, 6), 10.0),\n",
       " (9, 7): ((8, 6), 10.0),\n",
       " (7, 8): ((8, 7), 11.0),\n",
       " (8, 8): ((8, 7), 11.0),\n",
       " (9, 8): ((8, 7), 11.0)}"
      ]
     },
     "execution_count": 22,
     "metadata": {},
     "output_type": "execute_result"
    },
    {
     "data": {
      "image/png": "[encoded data removed]",
      "text/plain": [
       "<Figure size 432x288 with 1 Axes>"
      ]
     },
     "metadata": {
      "needs_background": "light"
     },
     "output_type": "display_data"
    }
   ],
   "source": [
    "astar(start, final, euclidean_distance)"
   ]
  },
  {
   "cell_type": "code",
   "execution_count": 23,
   "metadata": {},
   "outputs": [
    {
     "data": {
      "text/plain": [
       "{(5, 5): (None, 0),\n",
       " (4, 4): ((5, 5), 1),\n",
       " (4, 5): ((5, 5), 1),\n",
       " (5, 4): ((5, 5), 1),\n",
       " (3, 3): ((4, 4), 2),\n",
       " (3, 4): ((4, 4), 2),\n",
       " (3, 5): ((4, 4), 2),\n",
       " (5, 3): ((4, 4), 2),\n",
       " (4, 3): ((4, 4), 2),\n",
       " (2, 2): ((3, 3), 3),\n",
       " (2, 3): ((3, 3), 3),\n",
       " (2, 4): ((3, 3), 3),\n",
       " (4, 2): ((3, 3), 3),\n",
       " (3, 2): ((3, 3), 3),\n",
       " (1, 1): ((2, 2), 4),\n",
       " (1, 2): ((2, 2), 4),\n",
       " (1, 3): ((2, 2), 4),\n",
       " (3, 1): ((2, 2), 4),\n",
       " (2, 1): ((2, 2), 4),\n",
       " (2, 5): ((3, 4), 3),\n",
       " (5, 2): ((4, 3), 3),\n",
       " (0, 0): ((1, 1), 5),\n",
       " (0, 1): ((1, 1), 5),\n",
       " (0, 2): ((1, 1), 5),\n",
       " (2, 0): ((1, 1), 5),\n",
       " (1, 0): ((1, 1), 5),\n",
       " (1, 4): ((2, 3), 4),\n",
       " (4, 1): ((3, 2), 4),\n",
       " (0, 3): ((1, 2), 5),\n",
       " (3, 0): ((2, 1), 5),\n",
       " (1, 5): ((2, 4), 4),\n",
       " (5, 1): ((4, 2), 4),\n",
       " (0, 4): ((1, 3), 5),\n",
       " (1, 6): ((2, 5), 4),\n",
       " (4, 0): ((3, 1), 5),\n",
       " (6, 1): ((5, 2), 4),\n",
       " (0, 5): ((1, 4), 5),\n",
       " (5, 0): ((4, 1), 5),\n",
       " (0, 6): ((1, 5), 5),\n",
       " (6, 0): ((5, 1), 5),\n",
       " (0, 7): ((1, 6), 5),\n",
       " (1, 7): ((1, 6), 5),\n",
       " (7, 2): ((6, 1), 5),\n",
       " (7, 1): ((6, 1), 5),\n",
       " (7, 0): ((6, 1), 5),\n",
       " (7, 3): ((7, 2), 6),\n",
       " (8, 3): ((7, 2), 6),\n",
       " (8, 2): ((7, 2), 6),\n",
       " (8, 1): ((7, 2), 6),\n",
       " (7, 4): ((7, 3), 7),\n",
       " (8, 4): ((7, 3), 7),\n",
       " (7, 5): ((7, 4), 8),\n",
       " (8, 5): ((7, 4), 8),\n",
       " (7, 6): ((7, 5), 9),\n",
       " (8, 6): ((7, 5), 9),\n",
       " (6, 7): ((7, 6), 10),\n",
       " (7, 7): ((7, 6), 10),\n",
       " (8, 7): ((7, 6), 10),\n",
       " (6, 8): ((7, 7), 11),\n",
       " (7, 8): ((7, 7), 11),\n",
       " (8, 8): ((7, 7), 11),\n",
       " (0, 8): ((1, 7), 6),\n",
       " (1, 8): ((1, 7), 6),\n",
       " (2, 8): ((1, 7), 6),\n",
       " (5, 7): ((6, 7), 11),\n",
       " (5, 8): ((6, 7), 11),\n",
       " (8, 0): ((7, 1), 6),\n",
       " (9, 4): ((8, 3), 7),\n",
       " (9, 3): ((8, 3), 7),\n",
       " (9, 2): ((8, 3), 7),\n",
       " (9, 5): ((8, 4), 8),\n",
       " (9, 6): ((8, 5), 9),\n",
       " (9, 7): ((8, 6), 10),\n",
       " (9, 8): ((8, 7), 11)}"
      ]
     },
     "execution_count": 23,
     "metadata": {},
     "output_type": "execute_result"
    },
    {
     "data": {
      "image/png": "[encoded data removed]",
      "text/plain": [
       "<Figure size 432x288 with 1 Axes>"
      ]
     },
     "metadata": {
      "needs_background": "light"
     },
     "output_type": "display_data"
    }
   ],
   "source": [
    "astar(start, final, manhattan_distance)"
   ]
  }
 ],
 "metadata": {
  "kernelspec": {
   "display_name": "Python 3 (ipykernel)",
   "language": "python",
   "name": "python3"
  },
  "language_info": {
   "codemirror_mode": {
    "name": "ipython",
    "version": 3
   },
   "file_extension": ".py",
   "mimetype": "text/x-python",
   "name": "python",
   "nbconvert_exporter": "python",
   "pygments_lexer": "ipython3",
   "version": "3.9.2"
  }
 },
 "nbformat": 4,
 "nbformat_minor": 4
}
