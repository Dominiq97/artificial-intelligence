{
 "cells": [
  {
   "cell_type": "markdown",
   "metadata": {
    "id": "0Y435U2gHFou"
   },
   "source": [
    "## MinMax Algorithm"
   ]
  },
  {
   "cell_type": "markdown",
   "metadata": {
    "id": "x254sN9iHFoz"
   },
   "source": [
    "## From definitions to know-how"
   ]
  },
  {
   "cell_type": "code",
   "execution_count": 1,
   "metadata": {
    "id": "HYegED8VHFo1"
   },
   "outputs": [],
   "source": [
    "from collections import defaultdict\n",
    "import random\n",
    "import math\n",
    "import functools "
   ]
  },
  {
   "cell_type": "markdown",
   "metadata": {
    "id": "OG9nodJMHFpA"
   },
   "source": [
    "### Task 0\n"
   ]
  },
  {
   "cell_type": "code",
   "execution_count": 2,
   "metadata": {
    "id": "s2_TQLz1HFpB"
   },
   "outputs": [
    {
     "name": "stdout",
     "output_type": "stream",
     "text": [
      "<bound method Board.__repr__ of . . . . . . . .\n",
      ". . . . . . . .\n",
      ". . . . . . . .\n",
      ". . . . . . . .\n",
      ". . . . . . . .\n",
      ". . . . . . . .\n",
      ". . . . . . . .\n",
      ". . . . . . . .\n",
      ">\n",
      ". . . . . . . .\n",
      ". . . . . . . .\n",
      ". . . . . . . .\n",
      ". . X . . . . .\n",
      ". . . . . . . .\n",
      ". . . . . . . .\n",
      ". . . . . . . .\n",
      ". . . . . . . .\n",
      "\n",
      ". . . . . . . .\n",
      ". . . . . . . .\n",
      ". . . . . . . .\n",
      ". . . . . . O .\n",
      ". . . . . . . .\n",
      ". . . . . . . .\n",
      ". . . . . . . .\n",
      ". . . . . . . .\n",
      "\n"
     ]
    }
   ],
   "source": [
    "class Board(defaultdict):\n",
    "    empty = '.'\n",
    "    used = '#'\n",
    "    \n",
    "    def __init__(self, width=8, height=8, current_player=None, **kwds):\n",
    "        self.__dict__.update(width=width, height=height, current_player=current_player, **kwds)\n",
    " \n",
    "    def __missing__(self, pos):\n",
    "        (x,y) = pos\n",
    "        if (x>=0) and (y>=0) and (x<self.width) and (y<self.height):\n",
    "            return self.empty\n",
    "        else:\n",
    "            return self.used       \n",
    "            \n",
    "    def __hash__(self): \n",
    "        return hash(tuple(sorted(self.items()))) + hash(self.current_player)\n",
    "    \n",
    "    def __repr__(self):\n",
    "        def row(y): \n",
    "            return ' '.join(self[x, y] for x in range(self.width))\n",
    "        return '\\n'.join(map(row, range(self.height))) +  '\\n'\n",
    "    \n",
    "    def update_board(self, changes: dict, **kwds) -> 'Board':\n",
    "        board = Board(width = self.width, height = self.height, **kwds)\n",
    "        board.update(self)\n",
    "        board.update(changes)\n",
    "        return board\n",
    "\n",
    "board = Board()\n",
    "print(board.__repr__)\n",
    "print(board.update_board({(2,3): 'X'}))\n",
    "print(board.update_board({(6,3): 'O'}))"
   ]
  },
  {
   "cell_type": "markdown",
   "metadata": {
    "id": "kQSJTfLCHFpS"
   },
   "source": [
    "### Task 1\n"
   ]
  },
  {
   "cell_type": "code",
   "execution_count": 3,
   "metadata": {
    "id": "WAjRD0InHFpT"
   },
   "outputs": [],
   "source": [
    "def k_in_row(board, player, square, k):\n",
    "    \n",
    "    def in_row(x,y,xpos,ypos):\n",
    "        if board[x,y] != player:\n",
    "            return 0\n",
    "        else:\n",
    "            return 1 + in_row(x + xpos, y + ypos,xpos,ypos)\n",
    "    \n",
    "    \n",
    "    lista = [] \n",
    "    for xpos, ypos in (1, 1),(0, 1),(1, 0),(1, -1):  \n",
    "        lista.append(in_row(*square, xpos, ypos) + in_row(*square, -xpos, -ypos) - 1 >= k) \n",
    "    for i in lista:\n",
    "        if i:\n",
    "            return True\n",
    "    return False "
   ]
  },
  {
   "cell_type": "markdown",
   "metadata": {
    "id": "jBKAiHAkHFpJ"
   },
   "source": [
    "### Task 2\n"
   ]
  },
  {
   "cell_type": "code",
   "execution_count": 5,
   "metadata": {
    "id": "fhzT-HFtHFpL"
   },
   "outputs": [],
   "source": [
    "class TicTacToe:\n",
    "    \n",
    "    def __init__(self, height=3, width=3, k=3):\n",
    "        self.k = k\n",
    "        self.squares = {(x, y) for x in range(width) for y in range(height)}\n",
    "        self.initial = Board(height=height, width=width, current_player='X', utility=0)\n",
    "        # The board where X plays first, and the utility value is 0.\n",
    " \n",
    "    def actions(self, board):\n",
    "        return self.squares - set(board)\n",
    "    \n",
    "\n",
    "    def utility(self, board, player):\n",
    "        if player == 'X':\n",
    "            return board.utility \n",
    "        elif player == 'O':\n",
    "            return -board.utility\n",
    "        else:\n",
    "            return 0\n",
    "\n",
    "    def make_move(self, board, square):\n",
    "        player = board.current_player\n",
    "        if player == 'O':\n",
    "            board = board.update_board({square: player}, current_player='X')\n",
    "        else:\n",
    "            board = board.update_board({square: player}, current_player='O')\n",
    "        win = k_in_row(board, player, square, self.k)\n",
    "        if win:\n",
    "            if player == 'X':\n",
    "                board.utility = 1\n",
    "            else:\n",
    "                board.utility = -1\n",
    "            \n",
    "        else:\n",
    "            board.utility = 0\n",
    "        \n",
    "        return board\n",
    "    \n",
    "    def end(self, board):\n",
    "        if (board.utility != 0) or (len(self.squares)==len(board)):\n",
    "            return True\n",
    "        else:\n",
    "            return False\n",
    " \n",
    "    def draw_board(self, board):\n",
    "        print(board)"
   ]
  },
  {
   "cell_type": "code",
   "execution_count": 6,
   "metadata": {
    "id": "9rHMCuK6HFpw"
   },
   "outputs": [],
   "source": [
    "def random_player(game, state):\n",
    "    return random.choice(list(game.actions(state)))"
   ]
  },
  {
   "cell_type": "code",
   "execution_count": 7,
   "metadata": {
    "id": "hB10fKbVHFpq"
   },
   "outputs": [],
   "source": [
    "def player(search_algorithm):\n",
    "    return lambda game, state: search_algorithm(game, state)[1]"
   ]
  },
  {
   "cell_type": "markdown",
   "metadata": {
    "id": "slYyr7t8HFpZ"
   },
   "source": [
    "### Task 3"
   ]
  },
  {
   "cell_type": "code",
   "execution_count": 13,
   "metadata": {
    "id": "x1MYeB_aHFpb"
   },
   "outputs": [],
   "source": [
    "def play_game(game, strategies: dict):\n",
    "    state = game.initial\n",
    "    while game.end(state)==False:\n",
    "        player = state.current_player\n",
    "        move = strategies[player](game, state)\n",
    "        state = game.make_move(state, move)\n",
    "        print('Player:',player)\n",
    "        print('Move:',move)\n",
    "        print(state)\n",
    "            \n",
    "    return state"
   ]
  },
  {
   "cell_type": "markdown",
   "metadata": {
    "id": "06WTByxMHFph"
   },
   "source": [
    "## Min-Max Algorithm"
   ]
  },
  {
   "cell_type": "code",
   "execution_count": 14,
   "metadata": {
    "id": "CPmxwBVoHFpk"
   },
   "outputs": [],
   "source": [
    "\n",
    "infinity = math.inf\n",
    "\n",
    "def minimax_search(game, state):\n",
    "    player = state.current_player\n",
    "\n",
    "    def max_value(state):\n",
    "        if game.end(state):\n",
    "            return game.utility(state, player),infinity\n",
    "        value, move = -infinity,infinity\n",
    "        for possible_move in game.actions(state):\n",
    "            possible_value,_ = min_value(game.make_move(state, possible_move))\n",
    "            if possible_value > value:\n",
    "                value, move = possible_value, possible_move\n",
    "        return value, move\n",
    "\n",
    "    def min_value(state):\n",
    "        if game.end(state):\n",
    "            return game.utility(state, player),-infinity\n",
    "        value, move = +infinity,-infinity\n",
    "        for possible_move in game.actions(state):\n",
    "            possible_value,_ = max_value(game.make_move(state, possible_move))\n",
    "            if possible_value < value:\n",
    "                value, move = possible_value, possible_move\n",
    "        return value, move\n",
    "        \n",
    "\n",
    "    return max_value(state)"
   ]
  },
  {
   "cell_type": "code",
   "execution_count": 15,
   "metadata": {
    "id": "NBX3Y24SHFp2",
    "outputId": "341df910-35c4-4265-a70e-6ec7465d3226"
   },
   "outputs": [
    {
     "name": "stdout",
     "output_type": "stream",
     "text": [
      "Player: X\n",
      "Move: (1, 1)\n",
      ". . .\n",
      ". X .\n",
      ". . .\n",
      "\n",
      "Player: O\n",
      "Move: (0, 0)\n",
      "O . .\n",
      ". X .\n",
      ". . .\n",
      "\n",
      "Player: X\n",
      "Move: (2, 0)\n",
      "O . X\n",
      ". X .\n",
      ". . .\n",
      "\n",
      "Player: O\n",
      "Move: (0, 2)\n",
      "O . X\n",
      ". X .\n",
      "O . .\n",
      "\n",
      "Player: X\n",
      "Move: (0, 1)\n",
      "O . X\n",
      "X X .\n",
      "O . .\n",
      "\n",
      "Player: O\n",
      "Move: (2, 1)\n",
      "O . X\n",
      "X X O\n",
      "O . .\n",
      "\n",
      "Player: X\n",
      "Move: (2, 2)\n",
      "O . X\n",
      "X X O\n",
      "O . X\n",
      "\n",
      "Player: O\n",
      "Move: (1, 0)\n",
      "O O X\n",
      "X X O\n",
      "O . X\n",
      "\n",
      "Player: X\n",
      "Move: (1, 2)\n",
      "O O X\n",
      "X X O\n",
      "O X X\n",
      "\n"
     ]
    },
    {
     "data": {
      "text/plain": [
       "0"
      ]
     },
     "execution_count": 15,
     "metadata": {},
     "output_type": "execute_result"
    }
   ],
   "source": [
    "play_game(TicTacToe(), dict(X=random_player, O=player(minimax_search))).utility"
   ]
  }
 ],
 "metadata": {
  "colab": {
   "collapsed_sections": [],
   "name": "Lab06_AI.ipynb",
   "provenance": []
  },
  "kernelspec": {
   "display_name": "Python 3 (ipykernel)",
   "language": "python",
   "name": "python3"
  },
  "language_info": {
   "codemirror_mode": {
    "name": "ipython",
    "version": 3
   },
   "file_extension": ".py",
   "mimetype": "text/x-python",
   "name": "python",
   "nbconvert_exporter": "python",
   "pygments_lexer": "ipython3",
   "version": "3.9.2"
  }
 },
 "nbformat": 4,
 "nbformat_minor": 4
}
