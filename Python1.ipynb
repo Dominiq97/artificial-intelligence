{
 "cells": [
  {
   "cell_type": "markdown",
   "metadata": {},
   "source": [
    "## The Basics I (Python)\n"
   ]
  },
  {
   "cell_type": "code",
   "execution_count": 1,
   "metadata": {
    "scrolled": true
   },
   "outputs": [
    {
     "name": "stdout",
     "output_type": "stream",
     "text": [
      "This is my first string! <class 'str'>\n",
      "The assignment operator is \"=\" and my variable 2.0245 is of type: <class 'float'>.\n",
      "my_var = 7.0245 is of type: <class 'float'>.\n",
      "The exponent symbol is ** and my_var equals 49.344.\n"
     ]
    }
   ],
   "source": [
    "# To create variables assign values:\n",
    "my_var = 'This is my first string!' # the end of the statement doesn't require a ;\n",
    "print(my_var, type(my_var))\n",
    "\n",
    "my_var = 2.0245\n",
    "print('The assignment operator is \"=\" and my variable {} is of type: {}.' .format(my_var, type(my_var)))\n",
    "\n",
    "my_var += 5\n",
    "print('my_var = {} is of type: {}.' .format(my_var, type(my_var)))\n",
    "\n",
    "my_var = my_var**2\n",
    "print('The exponent symbol is ** and my_var equals {0:.3f}.' .format(my_var))"
   ]
  },
  {
   "cell_type": "code",
   "execution_count": 38,
   "metadata": {},
   "outputs": [
    {
     "name": "stdout",
     "output_type": "stream",
     "text": [
      "Why we like Science? 49.343600249999994\n"
     ]
    }
   ],
   "source": [
    "my_str = 'Why we like Science?'\n",
    "my_var = 2.0245\n",
    "my_var += 5\n",
    "my_var = my_var**2\n",
    "print(my_str, my_var)"
   ]
  },
  {
   "cell_type": "markdown",
   "metadata": {},
   "source": [
    "### Task 0\n"
   ]
  },
  {
   "cell_type": "code",
   "execution_count": 15,
   "metadata": {},
   "outputs": [
    {
     "name": "stdout",
     "output_type": "stream",
     "text": [
      "This my_var is now : 2\n"
     ]
    }
   ],
   "source": [
    "# Your impelementation here:\n",
    "my_var = 2.913\n",
    "int_var = int(my_var)\n",
    "my_str = 'This my_var is now : ' + str(int_var)\n",
    "print(my_str)\n"
   ]
  },
  {
   "cell_type": "code",
   "execution_count": null,
   "metadata": {},
   "outputs": [],
   "source": [
    "print('result: {}.' .format(result))\n",
    "assert result == 'Why we like Science? 49.'"
   ]
  },
  {
   "cell_type": "code",
   "execution_count": 3,
   "metadata": {},
   "outputs": [
    {
     "data": {
      "text/plain": [
       "True"
      ]
     },
     "execution_count": 3,
     "metadata": {},
     "output_type": "execute_result"
    }
   ],
   "source": [
    "# To verify if a variable has a reserved name:\n",
    "import keyword\n",
    "\n",
    "keyword.iskeyword('def')"
   ]
  },
  {
   "cell_type": "code",
   "execution_count": 35,
   "metadata": {},
   "outputs": [
    {
     "name": "stdout",
     "output_type": "stream",
     "text": [
      "2.913\n"
     ]
    }
   ],
   "source": [
    "# To remove a variable:\n",
    "\n",
    "del my_var\n",
    "print(my_var)"
   ]
  },
  {
   "cell_type": "markdown",
   "metadata": {},
   "source": [
    "### Task 1\n"
   ]
  },
  {
   "cell_type": "code",
   "execution_count": null,
   "metadata": {},
   "outputs": [],
   "source": [
    "noun = 'layer'\n",
    "verb = 'has'\n",
    "number = 128\n",
    "punctuation = '.'"
   ]
  },
  {
   "cell_type": "code",
   "execution_count": 23,
   "metadata": {},
   "outputs": [
    {
     "name": "stdout",
     "output_type": "stream",
     "text": [
      "sentence: This layer has 128 neurons.\n"
     ]
    }
   ],
   "source": [
    "# Your implementation:\n",
    "noun = 'layer'\n",
    "verb = 'has'\n",
    "number = 128\n",
    "punctuation = '.'\n",
    "sentence = \"This \" + noun + ' ' + verb +' '+ str(number) +' '+'neurons' + punctuation\n",
    "\n",
    "print('sentence: {}'.format(sentence))"
   ]
  },
  {
   "cell_type": "code",
   "execution_count": 24,
   "metadata": {},
   "outputs": [
    {
     "name": "stdout",
     "output_type": "stream",
     "text": [
      "sentence: This layer has 128 neurons.\n"
     ]
    }
   ],
   "source": [
    "print('sentence: {}'.format(sentence))\n",
    "assert sentence == 'This layer has 128 neurons.'"
   ]
  },
  {
   "cell_type": "markdown",
   "metadata": {},
   "source": [
    "### Loops"
   ]
  },
  {
   "cell_type": "markdown",
   "metadata": {},
   "source": [
    "### Lists\n"
   ]
  },
  {
   "cell_type": "code",
   "execution_count": null,
   "metadata": {},
   "outputs": [],
   "source": [
    "A = [] # alternative A = list()\n",
    "print('A is an empty list: {}, type: {}'.format(A, type(A)))\n",
    "\n",
    "B = [0, 2, 4, 6] \n",
    "print('B is known as `list display`: {}, the number of items in the list: {}'.format(B, len(B)))"
   ]
  },
  {
   "cell_type": "markdown",
   "metadata": {},
   "source": [
    "### Task 2\n"
   ]
  },
  {
   "cell_type": "code",
   "execution_count": 28,
   "metadata": {},
   "outputs": [
    {
     "name": "stdout",
     "output_type": "stream",
     "text": [
      "C : [1, 3, 5, 7]\n"
     ]
    }
   ],
   "source": [
    "B = [1, 2, 3, 4, 5 ,6, 7, 8]\n",
    "C = []\n",
    "for i in B:\n",
    "    if i%2 != 0:\n",
    "        C.append(i)\n",
    "print('C : {}'.format(C))"
   ]
  },
  {
   "cell_type": "code",
   "execution_count": null,
   "metadata": {},
   "outputs": [],
   "source": [
    "print('C : {}'.format(C))\n",
    "assert C == [1, 3, 5, 7]"
   ]
  },
  {
   "cell_type": "code",
   "execution_count": null,
   "metadata": {},
   "outputs": [],
   "source": [
    "# To acces values in your list:\n",
    "first_elem = B[0] \n",
    "print(first_elem)"
   ]
  },
  {
   "cell_type": "code",
   "execution_count": 29,
   "metadata": {},
   "outputs": [
    {
     "name": "stdout",
     "output_type": "stream",
     "text": [
      "Updated list: [0, 2, 4, 0]\n"
     ]
    }
   ],
   "source": [
    "# Your impelementation here:\n",
    "B = [0, 2, 4, 6]\n",
    "B[3] = 0\n",
    "print('Updated list: {}'.format(B))\n"
   ]
  },
  {
   "cell_type": "code",
   "execution_count": null,
   "metadata": {},
   "outputs": [],
   "source": [
    "print('Updated list: {}'.format(B))\n",
    "assert B == [0, 2, 4, 0]"
   ]
  },
  {
   "cell_type": "code",
   "execution_count": 12,
   "metadata": {},
   "outputs": [
    {
     "name": "stdout",
     "output_type": "stream",
     "text": [
      "Distinct elements of B: [2, ':', 4]\n"
     ]
    }
   ],
   "source": [
    "B = [0, 2, 4, 6]\n",
    "C = []\n",
    "for i in B:\n",
    "    if B.index(i) == 0 or B.index(i) == len(B)-1:\n",
    "        pass\n",
    "    else:\n",
    "        C.append(i)\n",
    "        C.append(':')\n",
    "del C[-1]\n",
    "    \n",
    "print('Distinct elements of B: {}'.format(C))"
   ]
  },
  {
   "cell_type": "code",
   "execution_count": null,
   "metadata": {},
   "outputs": [],
   "source": [
    "print('Distinct elements of B: {}'.format(diff_elems))\n",
    "assert diff_elems == [2, 4]"
   ]
  },
  {
   "cell_type": "markdown",
   "metadata": {},
   "source": [
    "### Dictionaires\n"
   ]
  },
  {
   "cell_type": "code",
   "execution_count": 16,
   "metadata": {},
   "outputs": [],
   "source": [
    "my_dict = {} \n",
    "\n",
    "scientists_dict = {1: 'Marie Curie', 2: 'Isaac Newton', 3: 'Charles Darwin'}"
   ]
  },
  {
   "cell_type": "code",
   "execution_count": 17,
   "metadata": {},
   "outputs": [
    {
     "name": "stdout",
     "output_type": "stream",
     "text": [
      "{1: 'Marie Curie', 2: 'Isaac Newton', 3: 'Charles Darwin'}\n",
      "Marie Curie\n",
      "Charles Darwin\n",
      "Marie Curie\n",
      "Isaac Newton\n",
      "Charles Darwin\n"
     ]
    }
   ],
   "source": [
    "scientists_dict = {1: 'Marie Curie', 2: 'Isaac Newton', 3: 'Charles Darwin'}\n",
    "print(scientists_dict)\n",
    "\n",
    "print(scientists_dict[1])\n",
    "print(scientists_dict[3])\n",
    "\n",
    "print(scientists_dict.get(1))\n",
    "print(scientists_dict.get(2))\n",
    "print(scientists_dict.get(3))"
   ]
  },
  {
   "cell_type": "code",
   "execution_count": 18,
   "metadata": {},
   "outputs": [
    {
     "name": "stdout",
     "output_type": "stream",
     "text": [
      "Charles Darwin\n"
     ]
    }
   ],
   "source": [
    "print(scientists_dict[3])"
   ]
  },
  {
   "cell_type": "code",
   "execution_count": 19,
   "metadata": {},
   "outputs": [],
   "source": [
    "del scientists_dict[3]"
   ]
  },
  {
   "cell_type": "markdown",
   "metadata": {},
   "source": [
    "### Task 3\n"
   ]
  },
  {
   "cell_type": "code",
   "execution_count": 14,
   "metadata": {},
   "outputs": [
    {
     "name": "stdout",
     "output_type": "stream",
     "text": [
      "Updated dictionary {1: 'Marie Curie', 2: 'Isaac Newton', 3: 'Albert Einstein'}\n"
     ]
    }
   ],
   "source": [
    "scientists_dict[3] = 'Albert Einstein'\n",
    "print('Updated dictionary {}'.format(scientists_dict))"
   ]
  },
  {
   "cell_type": "code",
   "execution_count": 5,
   "metadata": {},
   "outputs": [
    {
     "name": "stdout",
     "output_type": "stream",
     "text": [
      "Updated dictionary {1: 'Marie Curie', 2: 'Isaac Newton', 3: 'Albert Einstein'}\n"
     ]
    }
   ],
   "source": [
    "print('Updated dictionary {}'.format(scientists_dict))"
   ]
  },
  {
   "cell_type": "markdown",
   "metadata": {},
   "source": [
    "### Decision making"
   ]
  },
  {
   "cell_type": "code",
   "execution_count": 7,
   "metadata": {},
   "outputs": [
    {
     "name": "stdout",
     "output_type": "stream",
     "text": [
      "570\n"
     ]
    }
   ],
   "source": [
    "publications = {'Ada Lovelace' : 168,\n",
    "                'Marie Curie' : 'computerVision',\n",
    "                'Isaac Newton' : 156,\n",
    "                'Charles Darwin' : 104,\n",
    "                'Nikola Tesla' : 142,\n",
    "                'elKaly' : 'emotionalAI'\n",
    "               }\n",
    "total_publications = 0\n",
    "for i in publications:\n",
    "    if type(publications.get(i)) == int:\n",
    "        total_publications = total_publications + publications.get(i)\n",
    "print(total_publications)   "
   ]
  },
  {
   "cell_type": "code",
   "execution_count": 8,
   "metadata": {},
   "outputs": [
    {
     "name": "stdout",
     "output_type": "stream",
     "text": [
      "570\n"
     ]
    }
   ],
   "source": [
    "print(total_publications)"
   ]
  },
  {
   "cell_type": "code",
   "execution_count": 9,
   "metadata": {},
   "outputs": [],
   "source": [
    "assert total_publications == 570"
   ]
  },
  {
   "cell_type": "markdown",
   "metadata": {},
   "source": [
    "### Idiomatic loops\n"
   ]
  },
  {
   "cell_type": "markdown",
   "metadata": {},
   "source": [
    "### Task 4\n"
   ]
  },
  {
   "cell_type": "code",
   "execution_count": 13,
   "metadata": {},
   "outputs": [
    {
     "name": "stdout",
     "output_type": "stream",
     "text": [
      "aaees\n"
     ]
    }
   ],
   "source": [
    "my_str = 'awareness'\n",
    "new_str = ''\n",
    "for i, val in enumerate(my_str):\n",
    "    if i % 2 == 0:\n",
    "        new_str = str(new_str) + str(val)\n",
    "print(new_str)"
   ]
  },
  {
   "cell_type": "code",
   "execution_count": 11,
   "metadata": {},
   "outputs": [],
   "source": [
    "assert new_str == 'aaees'"
   ]
  },
  {
   "cell_type": "markdown",
   "metadata": {},
   "source": [
    "### Task 5\n"
   ]
  },
  {
   "cell_type": "code",
   "execution_count": 171,
   "metadata": {},
   "outputs": [
    {
     "name": "stdout",
     "output_type": "stream",
     "text": [
      "The initial dictionary: {1: 5, 2: 14, 3: 27, 4: 44, 5: 65, 6: 90, 7: 119, 8: 152, 9: 189}\n",
      "list with values divisible by 3:  [27, 90, 189]\n",
      "list with values divisible by 2:  [14, 44, 90, 152]\n",
      "[14, 27, 44, 152, 189]\n"
     ]
    }
   ],
   "source": [
    "n = 9\n",
    "dictionary = dict()\n",
    "\n",
    "for x in range(1,n+1):\n",
    "    dictionary[x]=2*x*x + 3*x\n",
    "print('The initial dictionary:',dictionary) \n",
    "listby2 = []\n",
    "listby3 = []\n",
    "\n",
    "for x,y in enumerate(dictionary):\n",
    "    if y % 3 == 0:\n",
    "        listby3.append(dictionary[y])\n",
    "print('list with values divisible by 3: ',listby3)\n",
    "for x,y in enumerate(dictionary):\n",
    "    if y % 2 == 0:\n",
    "        listby2.append(dictionary[y])\n",
    "print('list with values divisible by 2: ',listby2)\n",
    "\n",
    "list3=[]\n",
    "\n",
    "for x,y in enumerate(dictionary):\n",
    "    if y % 3 == 0 and y % 2 == 0:\n",
    "        next\n",
    "    elif y % 3 == 0 or y % 2 == 0:\n",
    "        list3.append(dictionary[y])\n",
    "print(list3)\n",
    "\n",
    "\n",
    "    \n"
   ]
  },
  {
   "cell_type": "code",
   "execution_count": null,
   "metadata": {},
   "outputs": [],
   "source": [
    "assert list3 == [14, 27, 44, 152, 189]"
   ]
  }
 ],
 "metadata": {
  "kernelspec": {
   "display_name": "Python 3 (ipykernel)",
   "language": "python",
   "name": "python3"
  },
  "language_info": {
   "codemirror_mode": {
    "name": "ipython",
    "version": 3
   },
   "file_extension": ".py",
   "mimetype": "text/x-python",
   "name": "python",
   "nbconvert_exporter": "python",
   "pygments_lexer": "ipython3",
   "version": "3.9.2"
  }
 },
 "nbformat": 4,
 "nbformat_minor": 4
}
