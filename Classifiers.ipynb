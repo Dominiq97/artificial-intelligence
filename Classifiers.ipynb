{
 "cells": [
  {
   "cell_type": "markdown",
   "metadata": {
    "id": "RRDk1pAZuKRs"
   },
   "source": [
    "# Random Forest Classifier, Linear Classifier"
   ]
  },
  {
   "cell_type": "code",
   "execution_count": 1,
   "metadata": {
    "id": "Vg8LEAKOuKR4"
   },
   "outputs": [],
   "source": [
    "import pandas as pd\n",
    "import numpy as np\n",
    "from sklearn.linear_model import LogisticRegression\n",
    "import warnings\n",
    "from pandas.core.common import SettingWithCopyWarning\n",
    "warnings.simplefilter(action=\"ignore\", category=SettingWithCopyWarning)"
   ]
  },
  {
   "cell_type": "code",
   "execution_count": null,
   "metadata": {
    "id": "ONjxm1p9uKR7"
   },
   "outputs": [],
   "source": [
    "df = pd.read_csv('credit_approval.csv')"
   ]
  },
  {
   "cell_type": "code",
   "execution_count": 179,
   "metadata": {
    "id": "jpjOQZnMuKR7",
    "outputId": "0fe64cac-53a5-4e76-a984-dea98ac308c5"
   },
   "outputs": [
    {
     "data": {
      "text/html": [
       "<div>\n",
       "<style scoped>\n",
       "    .dataframe tbody tr th:only-of-type {\n",
       "        vertical-align: middle;\n",
       "    }\n",
       "\n",
       "    .dataframe tbody tr th {\n",
       "        vertical-align: top;\n",
       "    }\n",
       "\n",
       "    .dataframe thead th {\n",
       "        text-align: right;\n",
       "    }\n",
       "</style>\n",
       "<table border=\"1\" class=\"dataframe\">\n",
       "  <thead>\n",
       "    <tr style=\"text-align: right;\">\n",
       "      <th></th>\n",
       "      <th>Unnamed: 0</th>\n",
       "      <th>1</th>\n",
       "      <th>2</th>\n",
       "      <th>3</th>\n",
       "      <th>4</th>\n",
       "      <th>5</th>\n",
       "      <th>6</th>\n",
       "      <th>7</th>\n",
       "      <th>8</th>\n",
       "      <th>9</th>\n",
       "      <th>10</th>\n",
       "      <th>11</th>\n",
       "      <th>12</th>\n",
       "      <th>13</th>\n",
       "      <th>14</th>\n",
       "      <th>15</th>\n",
       "    </tr>\n",
       "  </thead>\n",
       "  <tbody>\n",
       "    <tr>\n",
       "      <th>0</th>\n",
       "      <td>0</td>\n",
       "      <td>1</td>\n",
       "      <td>22.08</td>\n",
       "      <td>11.46</td>\n",
       "      <td>2</td>\n",
       "      <td>4</td>\n",
       "      <td>4</td>\n",
       "      <td>1.585</td>\n",
       "      <td>0</td>\n",
       "      <td>0</td>\n",
       "      <td>0</td>\n",
       "      <td>1</td>\n",
       "      <td>2</td>\n",
       "      <td>100</td>\n",
       "      <td>1213</td>\n",
       "      <td>0</td>\n",
       "    </tr>\n",
       "    <tr>\n",
       "      <th>1</th>\n",
       "      <td>1</td>\n",
       "      <td>0</td>\n",
       "      <td>22.67</td>\n",
       "      <td>7.00</td>\n",
       "      <td>2</td>\n",
       "      <td>8</td>\n",
       "      <td>4</td>\n",
       "      <td>0.165</td>\n",
       "      <td>0</td>\n",
       "      <td>0</td>\n",
       "      <td>0</td>\n",
       "      <td>0</td>\n",
       "      <td>2</td>\n",
       "      <td>160</td>\n",
       "      <td>1</td>\n",
       "      <td>0</td>\n",
       "    </tr>\n",
       "    <tr>\n",
       "      <th>2</th>\n",
       "      <td>2</td>\n",
       "      <td>0</td>\n",
       "      <td>29.58</td>\n",
       "      <td>1.75</td>\n",
       "      <td>1</td>\n",
       "      <td>4</td>\n",
       "      <td>4</td>\n",
       "      <td>1.250</td>\n",
       "      <td>0</td>\n",
       "      <td>0</td>\n",
       "      <td>0</td>\n",
       "      <td>1</td>\n",
       "      <td>2</td>\n",
       "      <td>280</td>\n",
       "      <td>1</td>\n",
       "      <td>0</td>\n",
       "    </tr>\n",
       "    <tr>\n",
       "      <th>3</th>\n",
       "      <td>3</td>\n",
       "      <td>0</td>\n",
       "      <td>21.67</td>\n",
       "      <td>11.50</td>\n",
       "      <td>1</td>\n",
       "      <td>5</td>\n",
       "      <td>3</td>\n",
       "      <td>0.000</td>\n",
       "      <td>1</td>\n",
       "      <td>1</td>\n",
       "      <td>11</td>\n",
       "      <td>1</td>\n",
       "      <td>2</td>\n",
       "      <td>0</td>\n",
       "      <td>1</td>\n",
       "      <td>1</td>\n",
       "    </tr>\n",
       "    <tr>\n",
       "      <th>4</th>\n",
       "      <td>4</td>\n",
       "      <td>1</td>\n",
       "      <td>20.17</td>\n",
       "      <td>8.17</td>\n",
       "      <td>2</td>\n",
       "      <td>6</td>\n",
       "      <td>4</td>\n",
       "      <td>1.960</td>\n",
       "      <td>1</td>\n",
       "      <td>1</td>\n",
       "      <td>14</td>\n",
       "      <td>0</td>\n",
       "      <td>2</td>\n",
       "      <td>60</td>\n",
       "      <td>159</td>\n",
       "      <td>1</td>\n",
       "    </tr>\n",
       "  </tbody>\n",
       "</table>\n",
       "</div>"
      ],
      "text/plain": [
       "   Unnamed: 0  1      2      3  4  5  6      7  8  9  10  11  12   13    14  \\\n",
       "0           0  1  22.08  11.46  2  4  4  1.585  0  0   0   1   2  100  1213   \n",
       "1           1  0  22.67   7.00  2  8  4  0.165  0  0   0   0   2  160     1   \n",
       "2           2  0  29.58   1.75  1  4  4  1.250  0  0   0   1   2  280     1   \n",
       "3           3  0  21.67  11.50  1  5  3  0.000  1  1  11   1   2    0     1   \n",
       "4           4  1  20.17   8.17  2  6  4  1.960  1  1  14   0   2   60   159   \n",
       "\n",
       "   15  \n",
       "0   0  \n",
       "1   0  \n",
       "2   0  \n",
       "3   1  \n",
       "4   1  "
      ]
     },
     "execution_count": 179,
     "metadata": {},
     "output_type": "execute_result"
    }
   ],
   "source": [
    "df.head()"
   ]
  },
  {
   "cell_type": "code",
   "execution_count": 180,
   "metadata": {
    "id": "a_vTom12uKR9",
    "outputId": "b4bb2cac-098f-461d-f428-7865aba061ea"
   },
   "outputs": [
    {
     "name": "stdout",
     "output_type": "stream",
     "text": [
      "<class 'pandas.core.frame.DataFrame'>\n",
      "RangeIndex: 690 entries, 0 to 689\n",
      "Data columns (total 16 columns):\n",
      " #   Column      Non-Null Count  Dtype  \n",
      "---  ------      --------------  -----  \n",
      " 0   Unnamed: 0  690 non-null    int64  \n",
      " 1   1           690 non-null    int64  \n",
      " 2   2           690 non-null    float64\n",
      " 3   3           690 non-null    float64\n",
      " 4   4           690 non-null    int64  \n",
      " 5   5           690 non-null    int64  \n",
      " 6   6           690 non-null    int64  \n",
      " 7   7           690 non-null    float64\n",
      " 8   8           690 non-null    int64  \n",
      " 9   9           690 non-null    int64  \n",
      " 10  10          690 non-null    int64  \n",
      " 11  11          690 non-null    int64  \n",
      " 12  12          690 non-null    int64  \n",
      " 13  13          690 non-null    int64  \n",
      " 14  14          690 non-null    int64  \n",
      " 15  15          690 non-null    int64  \n",
      "dtypes: float64(3), int64(13)\n",
      "memory usage: 86.4 KB\n"
     ]
    }
   ],
   "source": [
    "df.info()"
   ]
  },
  {
   "cell_type": "code",
   "execution_count": 181,
   "metadata": {
    "id": "9SnZFIlcuKR-",
    "outputId": "41208a11-267d-43d8-c8b7-501dfd9976f3"
   },
   "outputs": [
    {
     "data": {
      "text/plain": [
       "Index(['Unnamed: 0', '1', '2', '3', '4', '5', '6', '7', '8', '9', '10', '11',\n",
       "       '12', '13', '14', '15'],\n",
       "      dtype='object')"
      ]
     },
     "execution_count": 181,
     "metadata": {},
     "output_type": "execute_result"
    }
   ],
   "source": [
    "df.columns"
   ]
  },
  {
   "cell_type": "code",
   "execution_count": 182,
   "metadata": {
    "id": "rhEEtFkbuKR_"
   },
   "outputs": [],
   "source": [
    "import matplotlib.pyplot as plt\n",
    "import matplotlib.pyplot as pltplt.scatter(range(len(df)), df['1'])"
   ]
  },
  {
   "cell_type": "code",
   "execution_count": 184,
   "metadata": {
    "id": "Vr4o5d6XuKSA",
    "outputId": "3b235e3e-9df8-4fca-de48-b4f7e4bf8aab"
   },
   "outputs": [
    {
     "data": {
      "text/plain": [
       "<matplotlib.collections.PathCollection at 0x1f0868b86d0>"
      ]
     },
     "execution_count": 184,
     "metadata": {},
     "output_type": "execute_result"
    },
    {
     "data": {
      "image/png": "[encoded data removed]",
      "text/plain": [
       "<Figure size 432x288 with 1 Axes>"
      ]
     },
     "metadata": {
      "needs_background": "light"
     },
     "output_type": "display_data"
    }
   ],
   "source": [
    "plt.scatter(range(len(df)), df['2'])"
   ]
  },
  {
   "cell_type": "markdown",
   "metadata": {
    "id": "LSqVVR-uuKSB"
   },
   "source": [
    "### Preprocessing"
   ]
  },
  {
   "cell_type": "markdown",
   "metadata": {
    "id": "5BiMsrFUuKSB"
   },
   "source": [
    "### Task 0"
   ]
  },
  {
   "cell_type": "code",
   "execution_count": 249,
   "metadata": {
    "id": "L9mBseMBuKSC"
   },
   "outputs": [],
   "source": [
    "def clean_df(df):\n",
    "    if df.columns[0]=='Unnamed: 0':\n",
    "        df = df.drop(columns=['Unnamed: 0'])\n",
    "    lista = []\n",
    "    for col in range(1,len(df.columns)):\n",
    "        lista.append('col'+str(col))\n",
    "    lista.append('target')\n",
    "    df.columns = lista\n",
    "    dx = df.iloc[:,:len(df.columns)-1]\n",
    "    dy = df.iloc[:,len(df.columns)-1]\n",
    "    return dx, dy"
   ]
  },
  {
   "cell_type": "code",
   "execution_count": 267,
   "metadata": {
    "id": "o4NDx2gYuKSC"
   },
   "outputs": [
    {
     "name": "stdout",
     "output_type": "stream",
     "text": [
      "0      0\n",
      "1      0\n",
      "2      0\n",
      "3      1\n",
      "4      1\n",
      "      ..\n",
      "685    1\n",
      "686    0\n",
      "687    1\n",
      "688    1\n",
      "689    1\n",
      "Name: target, Length: 690, dtype: int64\n"
     ]
    }
   ],
   "source": [
    "dataX,dataY = clean_df(df)\n",
    "print(dataY)"
   ]
  },
  {
   "cell_type": "code",
   "execution_count": 268,
   "metadata": {
    "id": "ryH_vROXuKSD",
    "outputId": "c4d5f218-d264-44c6-93df-1b2a3b57960f"
   },
   "outputs": [
    {
     "data": {
      "text/html": [
       "<div>\n",
       "<style scoped>\n",
       "    .dataframe tbody tr th:only-of-type {\n",
       "        vertical-align: middle;\n",
       "    }\n",
       "\n",
       "    .dataframe tbody tr th {\n",
       "        vertical-align: top;\n",
       "    }\n",
       "\n",
       "    .dataframe thead th {\n",
       "        text-align: right;\n",
       "    }\n",
       "</style>\n",
       "<table border=\"1\" class=\"dataframe\">\n",
       "  <thead>\n",
       "    <tr style=\"text-align: right;\">\n",
       "      <th></th>\n",
       "      <th>col1</th>\n",
       "      <th>col2</th>\n",
       "      <th>col3</th>\n",
       "      <th>col4</th>\n",
       "      <th>col5</th>\n",
       "      <th>col6</th>\n",
       "      <th>col7</th>\n",
       "      <th>col8</th>\n",
       "      <th>col9</th>\n",
       "      <th>col10</th>\n",
       "      <th>col11</th>\n",
       "      <th>col12</th>\n",
       "      <th>col13</th>\n",
       "      <th>col14</th>\n",
       "    </tr>\n",
       "  </thead>\n",
       "  <tbody>\n",
       "    <tr>\n",
       "      <th>0</th>\n",
       "      <td>1</td>\n",
       "      <td>22.08</td>\n",
       "      <td>11.46</td>\n",
       "      <td>2</td>\n",
       "      <td>4</td>\n",
       "      <td>4</td>\n",
       "      <td>1.585</td>\n",
       "      <td>0</td>\n",
       "      <td>0</td>\n",
       "      <td>0</td>\n",
       "      <td>1</td>\n",
       "      <td>2</td>\n",
       "      <td>100</td>\n",
       "      <td>1213</td>\n",
       "    </tr>\n",
       "    <tr>\n",
       "      <th>1</th>\n",
       "      <td>0</td>\n",
       "      <td>22.67</td>\n",
       "      <td>7.00</td>\n",
       "      <td>2</td>\n",
       "      <td>8</td>\n",
       "      <td>4</td>\n",
       "      <td>0.165</td>\n",
       "      <td>0</td>\n",
       "      <td>0</td>\n",
       "      <td>0</td>\n",
       "      <td>0</td>\n",
       "      <td>2</td>\n",
       "      <td>160</td>\n",
       "      <td>1</td>\n",
       "    </tr>\n",
       "    <tr>\n",
       "      <th>2</th>\n",
       "      <td>0</td>\n",
       "      <td>29.58</td>\n",
       "      <td>1.75</td>\n",
       "      <td>1</td>\n",
       "      <td>4</td>\n",
       "      <td>4</td>\n",
       "      <td>1.250</td>\n",
       "      <td>0</td>\n",
       "      <td>0</td>\n",
       "      <td>0</td>\n",
       "      <td>1</td>\n",
       "      <td>2</td>\n",
       "      <td>280</td>\n",
       "      <td>1</td>\n",
       "    </tr>\n",
       "    <tr>\n",
       "      <th>3</th>\n",
       "      <td>0</td>\n",
       "      <td>21.67</td>\n",
       "      <td>11.50</td>\n",
       "      <td>1</td>\n",
       "      <td>5</td>\n",
       "      <td>3</td>\n",
       "      <td>0.000</td>\n",
       "      <td>1</td>\n",
       "      <td>1</td>\n",
       "      <td>11</td>\n",
       "      <td>1</td>\n",
       "      <td>2</td>\n",
       "      <td>0</td>\n",
       "      <td>1</td>\n",
       "    </tr>\n",
       "    <tr>\n",
       "      <th>4</th>\n",
       "      <td>1</td>\n",
       "      <td>20.17</td>\n",
       "      <td>8.17</td>\n",
       "      <td>2</td>\n",
       "      <td>6</td>\n",
       "      <td>4</td>\n",
       "      <td>1.960</td>\n",
       "      <td>1</td>\n",
       "      <td>1</td>\n",
       "      <td>14</td>\n",
       "      <td>0</td>\n",
       "      <td>2</td>\n",
       "      <td>60</td>\n",
       "      <td>159</td>\n",
       "    </tr>\n",
       "  </tbody>\n",
       "</table>\n",
       "</div>"
      ],
      "text/plain": [
       "   col1   col2   col3  col4  col5  col6   col7  col8  col9  col10  col11  \\\n",
       "0     1  22.08  11.46     2     4     4  1.585     0     0      0      1   \n",
       "1     0  22.67   7.00     2     8     4  0.165     0     0      0      0   \n",
       "2     0  29.58   1.75     1     4     4  1.250     0     0      0      1   \n",
       "3     0  21.67  11.50     1     5     3  0.000     1     1     11      1   \n",
       "4     1  20.17   8.17     2     6     4  1.960     1     1     14      0   \n",
       "\n",
       "   col12  col13  col14  \n",
       "0      2    100   1213  \n",
       "1      2    160      1  \n",
       "2      2    280      1  \n",
       "3      2      0      1  \n",
       "4      2     60    159  "
      ]
     },
     "execution_count": 268,
     "metadata": {},
     "output_type": "execute_result"
    }
   ],
   "source": [
    "dataX.head()"
   ]
  },
  {
   "cell_type": "code",
   "execution_count": 264,
   "metadata": {
    "id": "fHVXKRaPuKSD"
   },
   "outputs": [
    {
     "data": {
      "text/plain": [
       "[<matplotlib.lines.Line2D at 0x1f087b795e0>,\n",
       " <matplotlib.lines.Line2D at 0x1f087b796d0>,\n",
       " <matplotlib.lines.Line2D at 0x1f08585f100>,\n",
       " <matplotlib.lines.Line2D at 0x1f08585f130>,\n",
       " <matplotlib.lines.Line2D at 0x1f0852acf10>,\n",
       " <matplotlib.lines.Line2D at 0x1f085361e80>,\n",
       " <matplotlib.lines.Line2D at 0x1f085361df0>,\n",
       " <matplotlib.lines.Line2D at 0x1f085361d00>,\n",
       " <matplotlib.lines.Line2D at 0x1f085372be0>,\n",
       " <matplotlib.lines.Line2D at 0x1f0856b70a0>,\n",
       " <matplotlib.lines.Line2D at 0x1f085798700>,\n",
       " <matplotlib.lines.Line2D at 0x1f0856b7fd0>,\n",
       " <matplotlib.lines.Line2D at 0x1f0856b7b20>,\n",
       " <matplotlib.lines.Line2D at 0x1f0856b7a60>]"
      ]
     },
     "execution_count": 264,
     "metadata": {},
     "output_type": "execute_result"
    },
    {
     "data": {
      "image/png": "[encoded data removed]",
      "text/plain": [
       "<Figure size 432x288 with 1 Axes>"
      ]
     },
     "metadata": {
      "needs_background": "light"
     },
     "output_type": "display_data"
    }
   ],
   "source": [
    "plt.plot(dataX)"
   ]
  },
  {
   "cell_type": "code",
   "execution_count": 265,
   "metadata": {
    "id": "UnZlLDtSuKSE",
    "outputId": "574e3c69-a33e-4129-a90d-f4af91f9326c"
   },
   "outputs": [
    {
     "data": {
      "text/plain": [
       "0    0\n",
       "1    0\n",
       "2    0\n",
       "3    1\n",
       "4    1\n",
       "Name: target, dtype: int64"
      ]
     },
     "execution_count": 265,
     "metadata": {},
     "output_type": "execute_result"
    }
   ],
   "source": [
    "dataY.head()"
   ]
  },
  {
   "cell_type": "markdown",
   "metadata": {
    "id": "pl3RXtBsuKSF"
   },
   "source": [
    "### Task 1"
   ]
  },
  {
   "cell_type": "code",
   "execution_count": 323,
   "metadata": {
    "id": "2FiotVQ6uKSG"
   },
   "outputs": [
    {
     "data": {
      "text/html": [
       "<div>\n",
       "<style scoped>\n",
       "    .dataframe tbody tr th:only-of-type {\n",
       "        vertical-align: middle;\n",
       "    }\n",
       "\n",
       "    .dataframe tbody tr th {\n",
       "        vertical-align: top;\n",
       "    }\n",
       "\n",
       "    .dataframe thead th {\n",
       "        text-align: right;\n",
       "    }\n",
       "</style>\n",
       "<table border=\"1\" class=\"dataframe\">\n",
       "  <thead>\n",
       "    <tr style=\"text-align: right;\">\n",
       "      <th></th>\n",
       "      <th>col_names</th>\n",
       "      <th>avg</th>\n",
       "      <th>std</th>\n",
       "    </tr>\n",
       "  </thead>\n",
       "  <tbody>\n",
       "    <tr>\n",
       "      <th>0</th>\n",
       "      <td>col1</td>\n",
       "      <td>0</td>\n",
       "      <td>0</td>\n",
       "    </tr>\n",
       "    <tr>\n",
       "      <th>1</th>\n",
       "      <td>col2</td>\n",
       "      <td>0</td>\n",
       "      <td>0</td>\n",
       "    </tr>\n",
       "    <tr>\n",
       "      <th>2</th>\n",
       "      <td>col3</td>\n",
       "      <td>0</td>\n",
       "      <td>0</td>\n",
       "    </tr>\n",
       "    <tr>\n",
       "      <th>3</th>\n",
       "      <td>col4</td>\n",
       "      <td>0</td>\n",
       "      <td>0</td>\n",
       "    </tr>\n",
       "    <tr>\n",
       "      <th>4</th>\n",
       "      <td>col5</td>\n",
       "      <td>0</td>\n",
       "      <td>0</td>\n",
       "    </tr>\n",
       "    <tr>\n",
       "      <th>5</th>\n",
       "      <td>col6</td>\n",
       "      <td>0</td>\n",
       "      <td>0</td>\n",
       "    </tr>\n",
       "    <tr>\n",
       "      <th>6</th>\n",
       "      <td>col7</td>\n",
       "      <td>0</td>\n",
       "      <td>0</td>\n",
       "    </tr>\n",
       "    <tr>\n",
       "      <th>7</th>\n",
       "      <td>col8</td>\n",
       "      <td>0</td>\n",
       "      <td>0</td>\n",
       "    </tr>\n",
       "    <tr>\n",
       "      <th>8</th>\n",
       "      <td>col9</td>\n",
       "      <td>0</td>\n",
       "      <td>0</td>\n",
       "    </tr>\n",
       "    <tr>\n",
       "      <th>9</th>\n",
       "      <td>col10</td>\n",
       "      <td>0</td>\n",
       "      <td>0</td>\n",
       "    </tr>\n",
       "    <tr>\n",
       "      <th>10</th>\n",
       "      <td>col11</td>\n",
       "      <td>0</td>\n",
       "      <td>0</td>\n",
       "    </tr>\n",
       "    <tr>\n",
       "      <th>11</th>\n",
       "      <td>col12</td>\n",
       "      <td>0</td>\n",
       "      <td>0</td>\n",
       "    </tr>\n",
       "    <tr>\n",
       "      <th>12</th>\n",
       "      <td>col13</td>\n",
       "      <td>0</td>\n",
       "      <td>0</td>\n",
       "    </tr>\n",
       "    <tr>\n",
       "      <th>13</th>\n",
       "      <td>col14</td>\n",
       "      <td>0</td>\n",
       "      <td>0</td>\n",
       "    </tr>\n",
       "  </tbody>\n",
       "</table>\n",
       "</div>"
      ],
      "text/plain": [
       "   col_names  avg  std\n",
       "0       col1    0    0\n",
       "1       col2    0    0\n",
       "2       col3    0    0\n",
       "3       col4    0    0\n",
       "4       col5    0    0\n",
       "5       col6    0    0\n",
       "6       col7    0    0\n",
       "7       col8    0    0\n",
       "8       col9    0    0\n",
       "9      col10    0    0\n",
       "10     col11    0    0\n",
       "11     col12    0    0\n",
       "12     col13    0    0\n",
       "13     col14    0    0"
      ]
     },
     "execution_count": 323,
     "metadata": {},
     "output_type": "execute_result"
    }
   ],
   "source": [
    "def compute_stats(df):\n",
    "    lista = list(df.columns)\n",
    "    df1 = pd.DataFrame([['col'+str(i+1),0,0] for i in range(len(lista)-1)],index=[i for i in range(len(lista)-1)],columns=['col_names','avg', 'std'])\n",
    "    \n",
    "    return df1\n",
    "compute_stats(df)"
   ]
  },
  {
   "cell_type": "code",
   "execution_count": 315,
   "metadata": {
    "id": "NoTh8NmZuKSH"
   },
   "outputs": [
    {
     "name": "stdout",
     "output_type": "stream",
     "text": [
      "0\n",
      "1\n",
      "2\n",
      "3\n",
      "4\n",
      "5\n",
      "6\n",
      "7\n",
      "8\n",
      "9\n",
      "10\n",
      "11\n",
      "12\n"
     ]
    }
   ],
   "source": [
    "stats_dataX = compute_stats(dataX)"
   ]
  },
  {
   "cell_type": "code",
   "execution_count": 316,
   "metadata": {
    "id": "XbY6dLyCuKSH",
    "outputId": "1b7b6ea5-7ca9-45f0-8b64-29f898e59b44"
   },
   "outputs": [
    {
     "data": {
      "text/html": [
       "<div>\n",
       "<style scoped>\n",
       "    .dataframe tbody tr th:only-of-type {\n",
       "        vertical-align: middle;\n",
       "    }\n",
       "\n",
       "    .dataframe tbody tr th {\n",
       "        vertical-align: top;\n",
       "    }\n",
       "\n",
       "    .dataframe thead th {\n",
       "        text-align: right;\n",
       "    }\n",
       "</style>\n",
       "<table border=\"1\" class=\"dataframe\">\n",
       "  <thead>\n",
       "    <tr style=\"text-align: right;\">\n",
       "      <th></th>\n",
       "      <th>col_names</th>\n",
       "      <th>avg</th>\n",
       "      <th>std</th>\n",
       "    </tr>\n",
       "  </thead>\n",
       "  <tbody>\n",
       "    <tr>\n",
       "      <th>0</th>\n",
       "      <td>col1</td>\n",
       "      <td>0</td>\n",
       "      <td>0</td>\n",
       "    </tr>\n",
       "    <tr>\n",
       "      <th>1</th>\n",
       "      <td>col2</td>\n",
       "      <td>0</td>\n",
       "      <td>0</td>\n",
       "    </tr>\n",
       "    <tr>\n",
       "      <th>2</th>\n",
       "      <td>col3</td>\n",
       "      <td>0</td>\n",
       "      <td>0</td>\n",
       "    </tr>\n",
       "    <tr>\n",
       "      <th>3</th>\n",
       "      <td>col4</td>\n",
       "      <td>0</td>\n",
       "      <td>0</td>\n",
       "    </tr>\n",
       "    <tr>\n",
       "      <th>4</th>\n",
       "      <td>col5</td>\n",
       "      <td>0</td>\n",
       "      <td>0</td>\n",
       "    </tr>\n",
       "    <tr>\n",
       "      <th>5</th>\n",
       "      <td>col6</td>\n",
       "      <td>0</td>\n",
       "      <td>0</td>\n",
       "    </tr>\n",
       "    <tr>\n",
       "      <th>6</th>\n",
       "      <td>col7</td>\n",
       "      <td>0</td>\n",
       "      <td>0</td>\n",
       "    </tr>\n",
       "    <tr>\n",
       "      <th>7</th>\n",
       "      <td>col8</td>\n",
       "      <td>0</td>\n",
       "      <td>0</td>\n",
       "    </tr>\n",
       "    <tr>\n",
       "      <th>8</th>\n",
       "      <td>col9</td>\n",
       "      <td>0</td>\n",
       "      <td>0</td>\n",
       "    </tr>\n",
       "    <tr>\n",
       "      <th>9</th>\n",
       "      <td>col10</td>\n",
       "      <td>0</td>\n",
       "      <td>0</td>\n",
       "    </tr>\n",
       "    <tr>\n",
       "      <th>10</th>\n",
       "      <td>col11</td>\n",
       "      <td>0</td>\n",
       "      <td>0</td>\n",
       "    </tr>\n",
       "    <tr>\n",
       "      <th>11</th>\n",
       "      <td>col12</td>\n",
       "      <td>0</td>\n",
       "      <td>0</td>\n",
       "    </tr>\n",
       "    <tr>\n",
       "      <th>12</th>\n",
       "      <td>col13</td>\n",
       "      <td>0</td>\n",
       "      <td>0</td>\n",
       "    </tr>\n",
       "  </tbody>\n",
       "</table>\n",
       "</div>"
      ],
      "text/plain": [
       "   col_names  avg  std\n",
       "0       col1    0    0\n",
       "1       col2    0    0\n",
       "2       col3    0    0\n",
       "3       col4    0    0\n",
       "4       col5    0    0\n",
       "5       col6    0    0\n",
       "6       col7    0    0\n",
       "7       col8    0    0\n",
       "8       col9    0    0\n",
       "9      col10    0    0\n",
       "10     col11    0    0\n",
       "11     col12    0    0\n",
       "12     col13    0    0"
      ]
     },
     "execution_count": 316,
     "metadata": {},
     "output_type": "execute_result"
    }
   ],
   "source": [
    "stats_dataX"
   ]
  },
  {
   "cell_type": "code",
   "execution_count": null,
   "metadata": {
    "id": "IhA-lzRguKSQ",
    "outputId": "8a7357aa-1ecb-4949-cf00-40faa299f434"
   },
   "outputs": [
    {
     "data": {
      "text/html": [
       "<div>\n",
       "<style scoped>\n",
       "    .dataframe tbody tr th:only-of-type {\n",
       "        vertical-align: middle;\n",
       "    }\n",
       "\n",
       "    .dataframe tbody tr th {\n",
       "        vertical-align: top;\n",
       "    }\n",
       "\n",
       "    .dataframe thead th {\n",
       "        text-align: right;\n",
       "    }\n",
       "</style>\n",
       "<table border=\"1\" class=\"dataframe\">\n",
       "  <thead>\n",
       "    <tr style=\"text-align: right;\">\n",
       "      <th></th>\n",
       "      <th>col1</th>\n",
       "      <th>col2</th>\n",
       "      <th>col3</th>\n",
       "      <th>col4</th>\n",
       "      <th>col5</th>\n",
       "      <th>col6</th>\n",
       "      <th>col7</th>\n",
       "      <th>col8</th>\n",
       "      <th>col9</th>\n",
       "      <th>col10</th>\n",
       "      <th>col11</th>\n",
       "      <th>col12</th>\n",
       "      <th>col13</th>\n",
       "      <th>col14</th>\n",
       "    </tr>\n",
       "  </thead>\n",
       "  <tbody>\n",
       "    <tr>\n",
       "      <th>0</th>\n",
       "      <td>0.688238</td>\n",
       "      <td>-0.800471</td>\n",
       "      <td>1.346134</td>\n",
       "      <td>0.542556</td>\n",
       "      <td>-0.915618</td>\n",
       "      <td>-0.347713</td>\n",
       "      <td>-0.190767</td>\n",
       "      <td>-1.046745</td>\n",
       "      <td>-0.863570</td>\n",
       "      <td>-0.493529</td>\n",
       "      <td>1.087120</td>\n",
       "      <td>0.237655</td>\n",
       "      <td>-0.488004</td>\n",
       "      <td>0.037353</td>\n",
       "    </tr>\n",
       "    <tr>\n",
       "      <th>1</th>\n",
       "      <td>-1.450880</td>\n",
       "      <td>-0.750696</td>\n",
       "      <td>0.450221</td>\n",
       "      <td>0.542556</td>\n",
       "      <td>0.170375</td>\n",
       "      <td>-0.347713</td>\n",
       "      <td>-0.615090</td>\n",
       "      <td>-1.046745</td>\n",
       "      <td>-0.863570</td>\n",
       "      <td>-0.493529</td>\n",
       "      <td>-0.918529</td>\n",
       "      <td>0.237655</td>\n",
       "      <td>-0.139490</td>\n",
       "      <td>-0.195272</td>\n",
       "    </tr>\n",
       "    <tr>\n",
       "      <th>2</th>\n",
       "      <td>-1.450880</td>\n",
       "      <td>-0.167735</td>\n",
       "      <td>-0.604384</td>\n",
       "      <td>-1.782685</td>\n",
       "      <td>-0.915618</td>\n",
       "      <td>-0.347713</td>\n",
       "      <td>-0.290872</td>\n",
       "      <td>-1.046745</td>\n",
       "      <td>-0.863570</td>\n",
       "      <td>-0.493529</td>\n",
       "      <td>1.087120</td>\n",
       "      <td>0.237655</td>\n",
       "      <td>0.557539</td>\n",
       "      <td>-0.195272</td>\n",
       "    </tr>\n",
       "    <tr>\n",
       "      <th>3</th>\n",
       "      <td>-1.450880</td>\n",
       "      <td>-0.835061</td>\n",
       "      <td>1.354169</td>\n",
       "      <td>-1.782685</td>\n",
       "      <td>-0.644120</td>\n",
       "      <td>-0.849641</td>\n",
       "      <td>-0.664395</td>\n",
       "      <td>0.953958</td>\n",
       "      <td>1.156306</td>\n",
       "      <td>1.768477</td>\n",
       "      <td>1.087120</td>\n",
       "      <td>0.237655</td>\n",
       "      <td>-1.068862</td>\n",
       "      <td>-0.195272</td>\n",
       "    </tr>\n",
       "    <tr>\n",
       "      <th>4</th>\n",
       "      <td>0.688238</td>\n",
       "      <td>-0.961608</td>\n",
       "      <td>0.685248</td>\n",
       "      <td>0.542556</td>\n",
       "      <td>-0.372622</td>\n",
       "      <td>-0.347713</td>\n",
       "      <td>-0.078711</td>\n",
       "      <td>0.953958</td>\n",
       "      <td>1.156306</td>\n",
       "      <td>2.385388</td>\n",
       "      <td>-0.918529</td>\n",
       "      <td>0.237655</td>\n",
       "      <td>-0.720347</td>\n",
       "      <td>-0.164946</td>\n",
       "    </tr>\n",
       "  </tbody>\n",
       "</table>\n",
       "</div>"
      ],
      "text/plain": [
       "       col1      col2      col3      col4      col5      col6      col7  \\\n",
       "0  0.688238 -0.800471  1.346134  0.542556 -0.915618 -0.347713 -0.190767   \n",
       "1 -1.450880 -0.750696  0.450221  0.542556  0.170375 -0.347713 -0.615090   \n",
       "2 -1.450880 -0.167735 -0.604384 -1.782685 -0.915618 -0.347713 -0.290872   \n",
       "3 -1.450880 -0.835061  1.354169 -1.782685 -0.644120 -0.849641 -0.664395   \n",
       "4  0.688238 -0.961608  0.685248  0.542556 -0.372622 -0.347713 -0.078711   \n",
       "\n",
       "       col8      col9     col10     col11     col12     col13     col14  \n",
       "0 -1.046745 -0.863570 -0.493529  1.087120  0.237655 -0.488004  0.037353  \n",
       "1 -1.046745 -0.863570 -0.493529 -0.918529  0.237655 -0.139490 -0.195272  \n",
       "2 -1.046745 -0.863570 -0.493529  1.087120  0.237655  0.557539 -0.195272  \n",
       "3  0.953958  1.156306  1.768477  1.087120  0.237655 -1.068862 -0.195272  \n",
       "4  0.953958  1.156306  2.385388 -0.918529  0.237655 -0.720347 -0.164946  "
      ]
     },
     "execution_count": 21,
     "metadata": {
      "tags": []
     },
     "output_type": "execute_result"
    }
   ],
   "source": [
    "norm_dataX.head()"
   ]
  },
  {
   "cell_type": "markdown",
   "metadata": {
    "id": "-W2R-gNvuKSQ"
   },
   "source": [
    "### Task 2"
   ]
  },
  {
   "cell_type": "code",
   "execution_count": null,
   "metadata": {
    "id": "jUZTxT3s52Nq"
   },
   "outputs": [],
   "source": [
    "from sklearn.metrics import roc_auc_score"
   ]
  },
  {
   "cell_type": "code",
   "execution_count": null,
   "metadata": {
    "id": "MqxaWx1TuKSR"
   },
   "outputs": [],
   "source": [
    "def get_score(model, X_train, X_test, y_train, y_test):\n",
    "    model.fit(X_train, y_train.values.ravel())\n",
    "    return train_roc_scores, test_roc_scores"
   ]
  },
  {
   "cell_type": "code",
   "execution_count": null,
   "metadata": {
    "id": "YfQQRTcduKSR"
   },
   "outputs": [],
   "source": [
    "dataX_i = list(dataX.index.values)\n",
    " \n",
    "import random\n",
    " \n",
    "random.shuffle(dataX_i)"
   ]
  },
  {
   "cell_type": "markdown",
   "metadata": {
    "id": "WV8QKSl2uKSR"
   },
   "source": [
    "**b)** Store the rearranged indices in 5 different lists, congregated in the list of lists `xi`."
   ]
  },
  {
   "cell_type": "code",
   "execution_count": null,
   "metadata": {
    "id": "ZS9bgC52uKSS",
    "outputId": "b3ea6ed9-7788-48cb-87d2-4adff003a939"
   },
   "outputs": [
    {
     "name": "stdout",
     "output_type": "stream",
     "text": [
      "[[2, 145, 388, 465, 477, 336, 491, 551, 435, 335, 247, 265, 324, 360, 235, 167, 328, 118, 352, 503, 332, 365, 642, 275, 181, 636, 599, 467, 119, 97, 356, 284, 606, 22, 502, 285, 361, 170, 302, 292, 258, 262, 523, 109, 489, 298, 220, 428, 643, 340, 99, 609, 459, 471, 212, 66, 453, 342, 512, 193, 521, 576, 314, 550, 286, 448, 630, 625, 37, 674, 368, 166, 495, 85, 679, 391, 403, 421, 44, 103, 634, 351, 210, 273, 558, 117, 173, 638, 662, 243, 59, 404, 647, 219, 90, 556, 627, 168, 557, 592, 236, 644, 198, 151, 304, 337, 130, 653, 245, 154, 308, 3, 208, 319, 494, 49, 381, 62, 355, 367, 366, 204, 579, 615, 320, 531, 401, 687, 291, 146, 261, 42, 545, 266, 127, 283, 57, 254], [0, 329, 631, 522, 587, 305, 432, 427, 667, 622, 153, 680, 682, 472, 231, 490, 379, 659, 232, 40, 27, 591, 54, 197, 310, 590, 295, 68, 131, 221, 4, 395, 657, 165, 668, 70, 559, 578, 585, 241, 671, 444, 60, 566, 7, 419, 572, 84, 115, 15, 447, 34, 300, 35, 105, 91, 677, 526, 505, 568, 311, 652, 376, 420, 306, 76, 612, 632, 39, 537, 38, 222, 407, 601, 347, 269, 260, 309, 200, 594, 142, 577, 487, 98, 111, 183, 123, 506, 688, 394, 9, 689, 345, 393, 229, 604, 240, 95, 616, 178, 666, 280, 364, 312, 207, 369, 580, 1, 225, 549, 372, 518, 104, 651, 440, 196, 493, 327, 185, 12, 618, 338, 371, 614, 316, 143, 481, 251, 670, 673, 603, 234, 414, 64, 663, 605, 162, 586], [323, 56, 409, 218, 664, 175, 238, 107, 227, 43, 246, 89, 408, 63, 439, 24, 362, 384, 607, 619, 100, 454, 317, 61, 637, 476, 26, 191, 48, 101, 226, 548, 570, 299, 230, 685, 544, 554, 6, 267, 354, 23, 396, 596, 78, 581, 418, 400, 479, 182, 387, 281, 390, 413, 113, 282, 589, 617, 485, 122, 437, 215, 561, 73, 171, 517, 434, 344, 350, 169, 564, 375, 114, 571, 541, 445, 134, 610, 370, 676, 515, 50, 595, 41, 456, 553, 357, 469, 457, 410, 574, 500, 484, 623, 224, 163, 213, 315, 45, 488, 665, 242, 278, 293, 195, 80, 81, 426, 397, 5, 475, 442, 214, 102, 348, 72, 289, 17, 482, 58, 287, 423, 276, 417, 67, 96, 452, 55, 83, 121, 524, 135, 47, 562, 582, 359, 510, 164], [233, 331, 560, 147, 429, 248, 32, 534, 639, 321, 255, 626, 464, 525, 343, 192, 16, 339, 125, 433, 203, 132, 120, 538, 189, 79, 141, 199, 263, 256, 333, 441, 274, 416, 159, 684, 624, 82, 411, 681, 137, 563, 633, 179, 536, 69, 412, 140, 155, 186, 613, 112, 128, 552, 334, 18, 583, 377, 542, 161, 378, 205, 108, 217, 496, 92, 600, 277, 567, 188, 180, 77, 116, 443, 250, 431, 373, 257, 507, 252, 65, 425, 149, 658, 353, 288, 271, 654, 460, 660, 13, 52, 126, 492, 88, 529, 669, 156, 148, 349, 139, 398, 628, 301, 201, 133, 31, 325, 341, 555, 532, 649, 656, 498, 640, 520, 473, 124, 399, 138, 28, 646, 358, 686, 290, 94, 641, 385, 655, 209, 158, 672, 565, 106, 513, 152, 514, 187], [499, 573, 516, 184, 508, 621, 374, 71, 675, 543, 136, 346, 389, 383, 272, 294, 501, 14, 406, 535, 509, 223, 29, 483, 157, 129, 486, 190, 575, 468, 318, 363, 380, 540, 533, 172, 253, 249, 683, 650, 462, 547, 202, 51, 11, 386, 270, 36, 87, 110, 620, 313, 237, 593, 569, 10, 530, 611, 46, 307, 296, 303, 661, 430, 546, 504, 463, 228, 678, 478, 511, 194, 93, 539, 177, 466, 470, 144, 160, 405, 608, 239, 297, 74, 527, 602, 216, 436, 25, 422, 449, 86, 53, 244, 497, 648, 402, 174, 75, 458, 279, 446, 461, 480, 8, 528, 645, 597, 629, 322, 519, 455, 598, 330, 584, 30, 21, 33, 438, 392, 474, 206, 424, 451, 382, 450, 588, 150, 635, 264, 19, 326, 176, 259, 211, 415, 20, 268]]\n"
     ]
    }
   ],
   "source": [
    "print(xi)"
   ]
  },
  {
   "cell_type": "code",
   "execution_count": null,
   "metadata": {
    "id": "ZlJb5fzxuKST"
   },
   "outputs": [],
   "source": [
    "train_scores_lr = []\n",
    "test_scores_lr = []"
   ]
  },
  {
   "cell_type": "markdown",
   "metadata": {
    "id": "zoNUR6m26VI6"
   },
   "source": [
    "### Cross Validation"
   ]
  },
  {
   "cell_type": "code",
   "execution_count": null,
   "metadata": {
    "id": "a3StCSFxuKST",
    "outputId": "eb8097e9-2eaa-411d-eb81-577351be1f32"
   },
   "outputs": [
    {
     "name": "stderr",
     "output_type": "stream",
     "text": [
      "C:\\Users\\cool_\\Anaconda3\\envs\\myenv\\lib\\site-packages\\sklearn\\linear_model\\sag.py:337: ConvergenceWarning: The max_iter was reached which means the coef_ did not converge\n",
      "  \"the coef_ did not converge\", ConvergenceWarning)\n",
      "C:\\Users\\cool_\\Anaconda3\\envs\\myenv\\lib\\site-packages\\sklearn\\linear_model\\sag.py:337: ConvergenceWarning: The max_iter was reached which means the coef_ did not converge\n",
      "  \"the coef_ did not converge\", ConvergenceWarning)\n",
      "C:\\Users\\cool_\\Anaconda3\\envs\\myenv\\lib\\site-packages\\sklearn\\linear_model\\sag.py:337: ConvergenceWarning: The max_iter was reached which means the coef_ did not converge\n",
      "  \"the coef_ did not converge\", ConvergenceWarning)\n",
      "C:\\Users\\cool_\\Anaconda3\\envs\\myenv\\lib\\site-packages\\sklearn\\linear_model\\sag.py:337: ConvergenceWarning: The max_iter was reached which means the coef_ did not converge\n",
      "  \"the coef_ did not converge\", ConvergenceWarning)\n",
      "C:\\Users\\cool_\\Anaconda3\\envs\\myenv\\lib\\site-packages\\sklearn\\linear_model\\sag.py:337: ConvergenceWarning: The max_iter was reached which means the coef_ did not converge\n",
      "  \"the coef_ did not converge\", ConvergenceWarning)\n"
     ]
    }
   ],
   "source": [
    "i=0\n",
    "while i < 5:\n",
    "    test_xi = np.asarray(xi[i]) \n",
    "    train_xi = np.concatenate(xi[:i] + xi[i+1:])\n",
    "    \n",
    "    X_train, X_test = dataX.iloc[train_xi, :], dataX.iloc[test_xi, :]\n",
    "    y_train, y_test = dataY.iloc[train_xi], dataY.iloc[test_xi]\n",
    "    \n",
    "    stats = compute_stats(X_train)\n",
    "    \n",
    "    logReg = LogisticRegression(solver='liblinear')\n",
    "    \n",
    "    train_slr, test_slr = get_score(logReg, X_train, X_test, y_train, y_test)\n",
    "    \n",
    "    train_scores_lr.append(train_slr)\n",
    "    test_scores_lr.append(test_slr)\n",
    "    \n",
    "    i += 1"
   ]
  },
  {
   "cell_type": "code",
   "execution_count": null,
   "metadata": {
    "id": "aKDNHIUjuKSU",
    "outputId": "2bb7e1ee-45e4-468b-f06f-9fdf519b8ad6"
   },
   "outputs": [
    {
     "name": "stdout",
     "output_type": "stream",
     "text": [
      "Logistic Regression scores TRAIN:  [0.918616452991453, 0.9320047987203414, 0.9308810244965195, 0.9354211062725841, 0.9142576908293238]\n",
      "Logistic Regression scores TEST:  [0.9272650830355267, 0.8889357218124342, 0.9012135405578028, 0.9229094076655053, 0.9640086206896551]\n"
     ]
    }
   ],
   "source": [
    "print('Logistic Regression scores TRAIN: ', train_scores_lr)\n",
    "print('Logistic Regression scores TEST: ', test_scores_lr)"
   ]
  },
  {
   "cell_type": "code",
   "execution_count": null,
   "metadata": {
    "id": "5LvGGmcWuKSV"
   },
   "outputs": [],
   "source": [
    "dataScores = pd.DataFrame()\n",
    "dataScores['LR scores train'] = train_scores_lr\n",
    "dataScores['LR scores test'] = test_scores_lr\n",
    "dataScores.to_csv(root_path + 'scores.csv')"
   ]
  }
 ],
 "metadata": {
  "colab": {
   "collapsed_sections": [],
   "name": "Lab11_AI_Solved.ipynb",
   "provenance": []
  },
  "kernelspec": {
   "display_name": "Python 3 (ipykernel)",
   "language": "python",
   "name": "python3"
  },
  "language_info": {
   "codemirror_mode": {
    "name": "ipython",
    "version": 3
   },
   "file_extension": ".py",
   "mimetype": "text/x-python",
   "name": "python",
   "nbconvert_exporter": "python",
   "pygments_lexer": "ipython3",
   "version": "3.9.2"
  }
 },
 "nbformat": 4,
 "nbformat_minor": 4
}
