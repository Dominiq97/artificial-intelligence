{
 "cells": [
  {
   "cell_type": "markdown",
   "metadata": {
    "id": "gVtTU731ugud"
   },
   "source": [
    "## The Basics III (Python)"
   ]
  },
  {
   "cell_type": "code",
   "execution_count": null,
   "metadata": {
    "id": "XhgoWxJGuguk"
   },
   "outputs": [],
   "source": [
    "class ScientificConference:\n",
    "    def __init__(self, name, papers, author, month, year):\n",
    "        self.name = name\n",
    "        if papers == None:\n",
    "            self.papers = dict()\n",
    "        else:\n",
    "            self.papers = papers\n",
    "        self.author = author\n",
    "        self.month = month\n",
    "        self.year = year\n",
    "        \n",
    "    def add_manuscript(self, title, researcher):\n",
    "        self.papers[researcher] = title\n",
    "\n",
    "    def __str__(self):\n",
    "        result = self.name + ' ' + str(self.year) + ': \\n'\n",
    "        for author, papers in self.papers.items():\n",
    "            result += f'{author}: {\", \".join([str(paper) for paper in papers])} \\n'\n",
    "        return result"
   ]
  },
  {
   "cell_type": "markdown",
   "metadata": {
    "id": "6xdy3BZ7ugu1"
   },
   "source": [
    "### Task 0"
   ]
  },
  {
   "cell_type": "code",
   "execution_count": null,
   "metadata": {
    "id": "ezLUEAgkugu5"
   },
   "outputs": [],
   "source": [
    "conference1 = ScientificConference('ICML', {'someone':'Ai the future'}, 'Marcel Ionut', 'November', 2021)\n",
    "conference2 = ScientificConference('NeurIPS',None, 'Angelo Dalli', 'November', 2020)\n",
    "\n",
    "print('Proposals for',conference1.name, 'and', conference2.name,'conferences will be accepted until the end of',conference1.month,conference1.year,'.')\n",
    "print(conference1.papers)"
   ]
  },
  {
   "cell_type": "code",
   "execution_count": 3,
   "metadata": {
    "id": "yUDsQUowugvH"
   },
   "outputs": [
    {
     "name": "stdout",
     "output_type": "stream",
     "text": [
      "ICML : {'someone': 'Ai the future', 'Bengio': 'title1'}\n",
      "NeurIPS : {'Le Cun': 'title2'}\n"
     ]
    }
   ],
   "source": [
    "conference1.add_manuscript('title1','Bengio')\n",
    "conference2.add_manuscript('title2','Le Cun')\n",
    "print(conference1.name,':',conference1.papers)\n",
    "print(conference2.name,':',conference2.papers)"
   ]
  },
  {
   "cell_type": "markdown",
   "metadata": {
    "id": "HUKrHifWugvP"
   },
   "source": [
    "### Task 1\n"
   ]
  },
  {
   "cell_type": "code",
   "execution_count": 4,
   "metadata": {
    "id": "CLYRkzHSugvR"
   },
   "outputs": [],
   "source": [
    "class Person:\n",
    "    allowed_titles = (\"Mr\", \"Mrs\", \"Ms\", \"Senior Researcher\", \"Professor of CS\",\"Computer Scientist\")\n",
    "    def __init__(self, title, name, surname):\n",
    "        if title in self.allowed_titles:\n",
    "            self.title = title\n",
    "        else:\n",
    "            raise ValueError(\"Title denied. Please specify a valid title: 'Mr', 'Mrs', 'Ms', 'Senior Researcher', 'Professor of CS', 'Computer Scientist'\")\n",
    "        self.name = name\n",
    "        self.surname = surname\n",
    "    \n",
    "        \n",
    "    def __str__(self):\n",
    "        return self.title + ' ' + self.surname + ' ' + self.name"
   ]
  },
  {
   "cell_type": "code",
   "execution_count": 6,
   "metadata": {
    "id": "U8jKwHK8ugvc"
   },
   "outputs": [
    {
     "name": "stdout",
     "output_type": "stream",
     "text": [
      "Mr Goodfellow Ian \n",
      "Senior Researcher Mikolov Tomas\n"
     ]
    }
   ],
   "source": [
    "# Your implementation here\n",
    "\n",
    "person1 = Person('Mr', \"Ian \", \"Goodfellow\")\n",
    "print(person1)\n",
    "person2 = Person('Senior Researcher', \"Tomas\", \"Mikolov\")\n",
    "print(person2)"
   ]
  },
  {
   "cell_type": "markdown",
   "metadata": {
    "id": "sJGqy2Zxugvm"
   },
   "source": [
    "### Task 2\n"
   ]
  },
  {
   "cell_type": "code",
   "execution_count": 13,
   "metadata": {
    "id": "1hPZ7q3rugvn"
   },
   "outputs": [],
   "source": [
    "class Paper:\n",
    "    status_allowed = (\"published\", \"in development\")\n",
    "    rating_allowed = (\"Excellent\", \"Good\", \"Fair\", \"Poor\", \"Barely Acceptable\",\"Unacceptable\")\n",
    "    def __init__(self, authors, title, a_id, status, year, peer_rating): \n",
    "        for a in authors:\n",
    "            a.papers.append(self)\n",
    "        self.authors = authors\n",
    "        self.title = title\n",
    "        self.a_id = a_id\n",
    "        self.year = year\n",
    "        if status in self.status_allowed:\n",
    "            self.status = status\n",
    "        else:\n",
    "            raise ValueError(\"Status denied. Please specify a valid status: 'published', 'in development'\")\n",
    "        if peer_rating in self.rating_allowed:\n",
    "            self.peer_rating = peer_rating\n",
    "        else:\n",
    "            raise ValueError(\"Rating denied. Please specify a valid status: 'Excellent', 'Good', 'Fair', 'Poor', 'Barely Acceptable','Unacceptable'\")   \n",
    "\n",
    "    def __str__(self):\n",
    "        return  f'{self.title}, {self.authors[0]} et al. ({self.year}), a_id: '\\\n",
    "                f'{self.a_id}, status: {self.status}, rating: {self.peer_rating}'"
   ]
  },
  {
   "cell_type": "markdown",
   "metadata": {
    "id": "rZqutiFsugvw"
   },
   "source": [
    "### Task 3\n",
    "\n"
   ]
  },
  {
   "cell_type": "code",
   "execution_count": 14,
   "metadata": {
    "id": "QCfpoVveugvy"
   },
   "outputs": [
    {
     "name": "stdout",
     "output_type": "stream",
     "text": [
      "Senior Researcher Tomas Mikolov\n"
     ]
    }
   ],
   "source": [
    "class Researcher(Person):\n",
    "    def __init__(self,title,name,surname,papers=None):\n",
    "        super().__init__(title, name, surname)\n",
    "        self.co_authored = False\n",
    "        \n",
    "        if papers == None:\n",
    "            self.papers = []\n",
    "        else:\n",
    "            self.papers = papers\n",
    "\n",
    "    def verify_co_authorship(self):\n",
    "        for i in self.papers:\n",
    "            if ( len(i.authors) > 1):\n",
    "                self.co_authored = True\n",
    "        if self.co_authored == True:\n",
    "            return self.name+' is a co-author.'\n",
    "        else:\n",
    "            return self.name+' is not a co-author.'\n",
    "\n",
    "    def get_collab(self, res2):\n",
    "        list1 = []\n",
    "        for i in self.papers:\n",
    "            for j in res2.papers:\n",
    "                if i == j:\n",
    "                    list1.append(j)\n",
    "        return list1\n",
    "    \n",
    "    \n",
    "    def __str__(self):\n",
    "        return self.title+' '+self.name+' '+self.surname\n",
    "\n",
    "res = Researcher(\"Senior Researcher\", \"Tomas\", \"Mikolov\",[\"paper1\",\"paper2\",\"paper3\"])\n",
    "print(res)"
   ]
  },
  {
   "cell_type": "markdown",
   "metadata": {
    "id": "40nAxy14ugv8"
   },
   "source": [
    "### Task 4\n"
   ]
  },
  {
   "cell_type": "code",
   "execution_count": 15,
   "metadata": {},
   "outputs": [],
   "source": [
    "res1 = Researcher('Computer Scientist', 'Yann','LeCun') # implementation of Research from task3 (empty lists to be appended with papers )\n",
    "res2 = Researcher('Mr', 'Yoshua','Bengio')\n",
    "res3 = Researcher('Mr', 'Razvan','Pascanu')\n",
    "res4 = Researcher('Mr', 'Geoffrey','Hinton')\n",
    "res5 = Researcher('Mr', 'Tomas','Mikolov')\n",
    "res6 = Researcher('Mr', 'Ian','Goodfellow')\n",
    "paper1 = Paper([res1, res2, res4],'Deep Learning', 14539,'published', 2015, 'Excellent')\n",
    "paper2 = Paper([res2, res3, res5], 'On the difficulty of training recurrent neural networks', 5063, 'published', 2013, 'Excellent')\n",
    "paper3 = Paper([res2, res6], 'Generative Adversarial Nets', 5423, 'published', 2015, 'Excellent')\n",
    "paper4 = Paper([res1],'Handwritten Digit Recognition with a Back-Propagation Network', 293, 'published', 1989, 'Excellent')\n",
    "paper5 = Paper([res4], 'Gated Softmax Classification', 3895, 'published', 2010, 'Excellent')"
   ]
  },
  {
   "cell_type": "code",
   "execution_count": 16,
   "metadata": {},
   "outputs": [
    {
     "name": "stdout",
     "output_type": "stream",
     "text": [
      "Yann is a co-author.\n",
      "Tomas is a co-author.\n"
     ]
    }
   ],
   "source": [
    "print(res1.verify_co_authorship())\n",
    "print(res5.verify_co_authorship())"
   ]
  },
  {
   "cell_type": "code",
   "execution_count": 17,
   "metadata": {},
   "outputs": [
    {
     "name": "stdout",
     "output_type": "stream",
     "text": [
      "Generative Adversarial Nets, Mr Yoshua Bengio et al. (2015), a_id: 5423, status: published, rating: Excellent\n"
     ]
    }
   ],
   "source": [
    "def print_papers(paper_list):\n",
    "    for paper in paper_list:\n",
    "        print(paper)\n",
    "print_papers(res2.get_collab(res6))\n",
    "    "
   ]
  },
  {
   "cell_type": "code",
   "execution_count": 18,
   "metadata": {},
   "outputs": [
    {
     "name": "stdout",
     "output_type": "stream",
     "text": [
      "Deep Learning, Computer Scientist Yann LeCun et al. (2015), a_id: 14539, status: published, rating: Excellent\n",
      "On the difficulty of training recurrent neural networks, Mr Yoshua Bengio et al. (2013), a_id: 5063, status: published, rating: Excellent\n",
      "Generative Adversarial Nets, Mr Yoshua Bengio et al. (2015), a_id: 5423, status: published, rating: Excellent\n"
     ]
    }
   ],
   "source": [
    "print_papers(res2.get_collab(res2))"
   ]
  },
  {
   "cell_type": "code",
   "execution_count": 19,
   "metadata": {},
   "outputs": [
    {
     "name": "stdout",
     "output_type": "stream",
     "text": [
      "Yoshua is a co-author.\n"
     ]
    }
   ],
   "source": [
    "print(res2.verify_co_authorship())"
   ]
  },
  {
   "cell_type": "code",
   "execution_count": 20,
   "metadata": {},
   "outputs": [
    {
     "name": "stdout",
     "output_type": "stream",
     "text": [
      "Deep Learning, Computer Scientist Yann LeCun et al. (2015), a_id: 14539, status: published, rating: Excellent\n",
      "Handwritten Digit Recognition with a Back-Propagation Network, Computer Scientist Yann LeCun et al. (1989), a_id: 293, status: published, rating: Excellent\n"
     ]
    }
   ],
   "source": [
    "print_papers(res1.get_collab(res1))"
   ]
  },
  {
   "cell_type": "markdown",
   "metadata": {
    "id": "AImKzUZgugv9"
   },
   "source": [
    "### Task 5"
   ]
  },
  {
   "cell_type": "code",
   "execution_count": 21,
   "metadata": {
    "id": "EDsHycjEugv_"
   },
   "outputs": [
    {
     "name": "stdout",
     "output_type": "stream",
     "text": [
      "NeurIPS 2020: \n",
      "2015: \n",
      "Mr Ian Goodfellow: Generative Adversarial Nets, Mr Yoshua Bengio et al. (2015), a_id: 5423, status: published, rating: Excellent \n",
      "Computer Scientist Yann LeCun: Deep Learning, Computer Scientist Yann LeCun et al. (2015), a_id: 14539, status: published, rating: Excellent \n",
      "\n"
     ]
    }
   ],
   "source": [
    "class ScientificConferenceUpdate:\n",
    "    list1 = []\n",
    "    def __init__(self, name,year,papers):\n",
    "        self.name = name\n",
    "        if papers == None or papers=={}:\n",
    "            self.papers = dict()\n",
    "        else:\n",
    "            self.papers = papers\n",
    "        self.year = year\n",
    "        \n",
    "    def add_manuscript(self, manuscript, researcher):\n",
    "        \n",
    "        if manuscript.peer_rating != \"Excellent\":\n",
    "            raise ValueError(\"Please review your submission.\")\n",
    "        else:\n",
    "            self.list1.append((researcher, manuscript))\n",
    "        self.papers[manuscript.year] = self.list1\n",
    "       \n",
    "    \n",
    "    def __str__(self):\n",
    "        result = self.name + ' ' + str(self.year) + ': \\n'\n",
    "        for year, papers in self.papers.items():\n",
    "            result += f'{year}: \\n'\n",
    "            for (author, paper) in papers:\n",
    "                result += f'{author}: {paper} \\n'\n",
    "        return result\n",
    "    \n",
    "p1 = Paper([res2, res6], 'Generative Adversarial Nets', 5423, 'published', 2015, 'Excellent')\n",
    "p2 = Paper([res1, res2, res4],'Deep Learning', 14539,'published', 2015, 'Excellent')\n",
    "conference_updated = ScientificConferenceUpdate('NeurIPS', 2020,{})\n",
    "conference_updated.add_manuscript(p1, res6)\n",
    "conference_updated.add_manuscript(p2, res1)\n",
    "print(conference_updated)"
   ]
  }
 ],
 "metadata": {
  "colab": {
   "collapsed_sections": [],
   "name": "Lab03_AI.ipynb",
   "provenance": []
  },
  "kernelspec": {
   "display_name": "Python 3 (ipykernel)",
   "language": "python",
   "name": "python3"
  },
  "language_info": {
   "codemirror_mode": {
    "name": "ipython",
    "version": 3
   },
   "file_extension": ".py",
   "mimetype": "text/x-python",
   "name": "python",
   "nbconvert_exporter": "python",
   "pygments_lexer": "ipython3",
   "version": "3.9.2"
  }
 },
 "nbformat": 4,
 "nbformat_minor": 4
}
