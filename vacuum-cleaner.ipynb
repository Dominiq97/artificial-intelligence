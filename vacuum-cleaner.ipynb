{
 "cells": [
  {
   "cell_type": "markdown",
   "metadata": {
    "id": "madS4s3YxgKF"
   },
   "source": [
    "## Uninformed Search"
   ]
  },
  {
   "cell_type": "markdown",
   "metadata": {
    "id": "AJhtyBjGxgKQ"
   },
   "source": [
    "## Non-deterministic vacuum cleaner\n"
   ]
  },
  {
   "cell_type": "code",
   "execution_count": 10,
   "metadata": {
    "colab": {
     "base_uri": "https://localhost:8080/",
     "height": 36
    },
    "id": "hjZvG1t0xgKU",
    "outputId": "cdc58811-3178-4b72-8eef-5366dc76e09e"
   },
   "outputs": [
    {
     "name": "stdout",
     "output_type": "stream",
     "text": [
      "Current state [[1, 1]].\n"
     ]
    }
   ],
   "source": [
    "# Dimensions of the plane.\n",
    "width = 2\n",
    "height = 1\n",
    "\n",
    "# The empty cells are marked with 1 meaning dirty cell.\n",
    "env = [[1 for x in range(width)] for y in range(height)]\n",
    "\n",
    "# Start point.\n",
    "start = (0, 0)\n",
    "\n",
    "# Current state of the environment.\n",
    "print(f'Current state {env}.')"
   ]
  },
  {
   "cell_type": "code",
   "execution_count": 11,
   "metadata": {
    "colab": {
     "base_uri": "https://localhost:8080/",
     "height": 55
    },
    "id": "R7BAvnzNxgKt",
    "outputId": "50bb1264-68d4-4645-c612-99eb03828fea"
   },
   "outputs": [],
   "source": [
    "# Possible moves.\n",
    "moves = ['Left', 'Right', 'Clean']\n",
    "\n",
    "# Deterministic effects:\n",
    "effectD = {}\n",
    "effectD['Left'] = [(-1, 0, -1, -1, -1, -1)]\n",
    "effectD['Right'] = [(+1, 0, -1, -1, -1, -1)]\n",
    "effectD['Clean'] = [(0, 0, 0, -1, 0, -1)]\n",
    "\n",
    "# Non-deterministic effects:\n",
    "effectN = {}\n",
    "effectN['Left'] = effectD['Left']\n",
    "effectN['Right'] = effectD['Right']\n",
    "effectN['Clean'] = [(0, 0, 0, -1, 0, -1), (0, 0, 1, -1, 0, 0)]\n"
   ]
  },
  {
   "cell_type": "code",
   "execution_count": 12,
   "metadata": {
    "id": "W2V8Dr4jxgLA"
   },
   "outputs": [],
   "source": [
    "import operator\n",
    "from functools import reduce"
   ]
  },
  {
   "cell_type": "code",
   "execution_count": 13,
   "metadata": {
    "colab": {
     "base_uri": "https://localhost:8080/",
     "height": 36
    },
    "id": "emJJvWj1xgLN",
    "outputId": "7e3c139a-a7ca-4bd7-f38a-13050a5679bc"
   },
   "outputs": [
    {
     "data": {
      "text/plain": [
       "-4"
      ]
     },
     "execution_count": 13,
     "metadata": {},
     "output_type": "execute_result"
    }
   ],
   "source": [
    "reduce((lambda x, y: x-y), [-2, -1, 0, 1, 2])"
   ]
  },
  {
   "cell_type": "code",
   "execution_count": 14,
   "metadata": {
    "id": "bO8mCuh6xgLb"
   },
   "outputs": [],
   "source": [
    "def is_good(state):\n",
    "    return state[0] >= 0 and state[0] < width and state[1] >= 0 and state[1] < height\n",
    "\n",
    "def env_clean(env):    \n",
    "    return 0 == len(list(filter(lambda x: x > 0, reduce(operator.add, env, []))))\n",
    "\n",
    "def compute_effectD(state, env, move):\n",
    "    return compute_effects(state, env, move, effectD)\n",
    "\n",
    "def compute_effectN(state, env, move):\n",
    "    return compute_effects(state, env, move, effectN)\n",
    "    \n",
    "def compute_effects(state, env, move, effects):\n",
    "    effects = [compute_effect(state, env, effect) for effect in effects[move]]\n",
    "    effects = list(filter(lambda e: e is not None, effects))\n",
    "    if len(effects) == 2 and effects[0] == effects[1]:\n",
    "        return effects[:1]\n",
    "    return effects\n",
    "    \n",
    "def compute_effect(state, env, effect):\n",
    "    new_env = [line[:] for line in env]\n",
    "    (x, y) = state\n",
    "    new_state = tuple([state[idx] + effect[idx] for idx in range(2)])\n",
    "    if not is_good(new_state):\n",
    "        return None\n",
    "    \n",
    "    for d in range(2):\n",
    "        clean_effect = effect[2 + d + env[y][x] * 2]\n",
    "        if clean_effect >= 0 and is_good((x + d, y)):\n",
    "            new_env[y][x + d] = clean_effect\n",
    "    return (new_state, new_env)"
   ]
  },
  {
   "cell_type": "code",
   "execution_count": 15,
   "metadata": {
    "colab": {
     "base_uri": "https://localhost:8080/",
     "height": 187
    },
    "id": "ubCU_xyBxgLq",
    "outputId": "b4615982-2ce1-4084-c3e5-fd32045c2cce"
   },
   "outputs": [
    {
     "name": "stdout",
     "output_type": "stream",
     "text": [
      "Is the environment clean?: False\n",
      "What is our move set?: ['Left', 'Right', 'Clean']\n",
      "How does the environment look?: [[1, 1]]\n",
      "The vacuum is in the left cell and we try to execute each move in the order stated above:\n",
      "[[], [((1, 0), [[1, 1]])], [((0, 0), [[0, 1]])]] -> note that Left is an illegal move here\n",
      "The vacuum is in the right cell and we try to execute each move in the order stated above:\n",
      "[[((0, 0), [[1, 1]])], [], [((1, 0), [[1, 0]])]] -> note that Right is an illegal move here\n",
      "The vacuum is in the left cell and we try to clean in a non-deterministic environment:\n",
      "[((0, 0), [[0, 1]]), ((0, 0), [[0, 0]])]\n"
     ]
    }
   ],
   "source": [
    "print(f'Is the environment clean?: {env_clean(env)}')\n",
    "print(f'What is our move set?: {moves}')\n",
    "print(f'How does the environment look?: {env}')\n",
    "print('The vacuum is in the left cell and we try to execute each move in the order stated above:')\n",
    "print(f'{[compute_effectD((0, 0), env, m) for m in  moves]} -> note that Left is an illegal move here')\n",
    "print('The vacuum is in the right cell and we try to execute each move in the order stated above:')\n",
    "print(f'{[compute_effectD((1, 0), env, m) for m in  moves]} -> note that Right is an illegal move here')\n",
    "print('The vacuum is in the left cell and we try to clean in a non-deterministic environment:')\n",
    "print(compute_effectN((0, 0), env, 'Clean'))"
   ]
  },
  {
   "cell_type": "markdown",
   "metadata": {
    "id": "hsMLqwXExgL4"
   },
   "source": [
    "### AND/OR Tree Search"
   ]
  },
  {
   "cell_type": "code",
   "execution_count": 16,
   "metadata": {
    "id": "nEoGWq3_xgL7"
   },
   "outputs": [],
   "source": [
    "class Node:\n",
    "    def __init__(self, op, state, env, tag=None, children=None):\n",
    "        # AND / OR type of the node\n",
    "        self.op = op\n",
    "        self.state = state\n",
    "        self.env = env\n",
    "        self.children = {} if children is None else children\n",
    "        self.parent = None\n",
    "        self.tag = tag\n",
    "    \n",
    "    def add_child(self, move, child):\n",
    "        if child == self:\n",
    "            return\n",
    "        self.children[move] = child\n",
    "        child.parent = self\n",
    "      \n",
    "    def __str__(self):\n",
    "        tag = ''\n",
    "        if self.tag is not None:\n",
    "            tag = str(self.tag)\n",
    "        return str(self.op) + \" : \" + str(self.state) + \" : \" + str(self.env) + \" (\" + str(len(self.children.values())) + \") [\" + tag + \"]\""
   ]
  },
  {
   "cell_type": "code",
   "execution_count": 17,
   "metadata": {
    "id": "FPX_K7oSxgMJ"
   },
   "outputs": [],
   "source": [
    "counter = 0\n",
    "labels = {}\n",
    "nodes = []\n",
    "edges = []\n",
    "\n",
    "def print_tree(root, onlyOR = False):\n",
    "    print_tree_ex(root, 0, onlyOR)\n",
    "\n",
    "def print_tree_ex(node, indent, onlyOR, edge = None):\n",
    "    global counter\n",
    "    line = \"\"\n",
    "    edge = str(edge) if edge is not None else \"\"\n",
    "    for i in range(indent):\n",
    "        line += \"   \"\n",
    "    if node.op == \"OR\":\n",
    "        line += \"-> \"+edge+\" <OR> \"\n",
    "        line += str(node.state[0]) + \" : \" + str(node.env)\n",
    "    else:\n",
    "        line += \"-> \"+edge+\" <\" + node.op + \"> - \"\n",
    "        if onlyOR:\n",
    "            line += str(node.state[0]) + \" : \" + str(node.env)\n",
    "    if node.tag is not None:\n",
    "        line += \" \" + str(node.tag)\n",
    "    print(line)\n",
    "    counter += 1\n",
    "    nodes.append(counter)\n",
    "    if node.parent is not None:\n",
    "        edges.append((node.parent, counter))\n",
    "    labels[counter] = line\n",
    "    for move, child in node.children.items():\n",
    "        print_tree_ex(child, indent + 1, onlyOR, move)"
   ]
  },
  {
   "cell_type": "code",
   "execution_count": 18,
   "metadata": {
    "id": "OCxpdLckxgMW",
    "outputId": "ef1a5270-4b18-48f8-ce6e-6d5cf26ee9e0",
    "scrolled": true
   },
   "outputs": [],
   "source": [
    "from IPython.core.display import Image, display, HTML"
   ]
  },
  {
   "cell_type": "markdown",
   "metadata": {
    "id": "wqi7haOoxgMh"
   },
   "source": [
    "### Task 0"
   ]
  },
  {
   "cell_type": "code",
   "execution_count": 19,
   "metadata": {
    "id": "MET1iiPqxgMj"
   },
   "outputs": [
    {
     "name": "stdout",
     "output_type": "stream",
     "text": [
      "OR : (0, 0) : [[1, 1]] (0) [Example]\n"
     ]
    }
   ],
   "source": [
    "root = Node(\"OR\",start,env,\"Example\", children=None)\n",
    "print(root)"
   ]
  },
  {
   "cell_type": "code",
   "execution_count": 20,
   "metadata": {
    "id": "BRO41e6PxgMx"
   },
   "outputs": [],
   "source": [
    "def compute_effects_on_node(node, move, deterministic):\n",
    "    if deterministic:\n",
    "        effects = compute_effectD(node.state, node.env, move)\n",
    "    else:\n",
    "        effects = compute_effectN(node.state, node.env, move)\n",
    "    return effects\n",
    "\n",
    "def create_nodes_from_move(parent, move, deterministic=True, give_tag='Example'):\n",
    "    effects = compute_effects_on_node(parent, move, deterministic)\n",
    "    children = []\n",
    "    if len(effects) == 1:\n",
    "        effect = effects[0]\n",
    "        child = Node('OR', effect[0], effect[1], give_tag)\n",
    "        parent.add_child(move, child)\n",
    "        children = [child]\n",
    "\n",
    "    if len(effects) > 1:\n",
    "        and_node = Node('AND', parent.state, parent.env, give_tag)\n",
    "        parent.add_child(move, and_node)\n",
    "        for i,effect in enumerate(effects):\n",
    "            child = Node('OR', effect[0], effect[1], give_tag)\n",
    "            and_node.add_child(i, child)\n",
    "            children.append(child)\n",
    "    return children"
   ]
  },
  {
   "cell_type": "code",
   "execution_count": 21,
   "metadata": {
    "id": "EQmSv_VSxgND"
   },
   "outputs": [
    {
     "name": "stdout",
     "output_type": "stream",
     "text": [
      "->  <OR> 0 : [[1, 1]] Example\n",
      "   -> Right <OR> 1 : [[1, 1]] Example\n",
      "      -> Left <OR> 0 : [[1, 1]] Example\n",
      "      -> Clean <OR> 1 : [[1, 0]] Example\n",
      "   -> Clean <AND> -  Example\n",
      "      -> 0 <OR> 0 : [[0, 1]] Example\n",
      "      -> 1 <OR> 0 : [[0, 0]] Example\n"
     ]
    }
   ],
   "source": [
    "child1 = create_nodes_from_move(root,\"Right\")\n",
    "create_nodes_from_move(child1[0],\"Left\")\n",
    "create_nodes_from_move(child1[0],\"Clean\")\n",
    "child2 = create_nodes_from_move(root,\"Clean\", False)\n",
    "print_tree(root, False)"
   ]
  },
  {
   "cell_type": "code",
   "execution_count": 22,
   "metadata": {
    "id": "yUGxN_MSxgNa"
   },
   "outputs": [
    {
     "name": "stdout",
     "output_type": "stream",
     "text": [
      "[((0, 0), [[1, 1]])]\n",
      "(0, 0)\n",
      "[[1, 1]]\n",
      "viz_states: [((0, 0), [[1, 1]]), ((1, 0), [[1, 1]]), ((0, 0), [[0, 1]])]\n",
      "->  <OR> 0 : [[1, 1]] SOLVED\n",
      "   -> Right <OR> 1 : [[1, 1]] SOLVED\n",
      "   -> Clean <AND> -  SOLVED\n",
      "      -> 0 <OR> 0 : [[0, 1]] SOLVED\n",
      "      -> 1 <OR> 0 : [[0, 0]] SOLVED\n",
      "Until here - the exercise\n",
      "--------------------------------\n",
      "->  <OR> 0 : [[1, 1]] SOLVED\n",
      "   -> Right <OR> 1 : [[1, 1]] SOLVED\n",
      "      -> Left <OR> 0 : [[1, 1]] CYCLE\n",
      "      -> Clean <OR> 1 : [[1, 0]] SOLVED\n",
      "         -> Left <OR> 0 : [[1, 0]] SOLVED\n",
      "            -> Right <OR> 1 : [[1, 0]] CYCLE\n",
      "            -> Clean <OR> 0 : [[0, 0]] SOLVED\n",
      "         -> Clean <AND> -  FAIL\n",
      "            -> 0 <OR> 1 : [[1, 0]] FAIL\n",
      "            -> 1 <OR> 1 : [[1, 1]] FAIL\n",
      "   -> Clean <AND> -  SOLVED\n",
      "      -> 0 <OR> 0 : [[0, 1]] SOLVED\n",
      "         -> Right <OR> 1 : [[0, 1]] Example\n",
      "            -> Left <OR> 0 : [[0, 1]] Example\n",
      "            -> Clean <OR> 1 : [[0, 0]] Example\n",
      "         -> Clean <AND> -  Example\n",
      "            -> 0 <OR> 0 : [[0, 1]] Example\n",
      "            -> 1 <OR> 0 : [[1, 1]] Example\n",
      "      -> 1 <OR> 0 : [[0, 0]] SOLVED\n"
     ]
    }
   ],
   "source": [
    "viz_states = []\n",
    "root = Node(\"OR\",start,env,\"SOLVED\", children=None)\n",
    "viz_states.append((start,env))\n",
    "print(viz_states)\n",
    "print(root.state)    # Aici vad si eu cu ce incep \n",
    "print(root.env)\n",
    "def create_tree(root, viz_states, deterministic):\n",
    "    \n",
    "    dicti = {}\n",
    "    if env_clean(env):\n",
    "        print('end')\n",
    "    else:\n",
    "        for i in moves:\n",
    "            dicti[i] = len(compute_effects_on_node(root, i, deterministic))\n",
    "        for j,k in dicti.items():\n",
    "            if k == 1 and j=='Right':\n",
    "                child = create_nodes_from_move(root,\"Right\", True, \"SOLVED\")\n",
    "                tuple1 = (child[0].state,child[0].env)\n",
    "                if tuple1 in viz_states:\n",
    "                    child = create_nodes_from_move(root,\"Right\", True, \"CYCLE\")\n",
    "                viz_states.append((child[0].state,child[0].env))\n",
    "                \n",
    "            elif k == 1 and j == 'Left':\n",
    "                child = create_nodes_from_move(root,\"Left\", True, \"SOLVED\")\n",
    "                tuple1 = (child[0].state,child[0].env)\n",
    "                if tuple1 in viz_states:\n",
    "                    child = create_nodes_from_move(root,\"Left\", True, \"CYCLE\")\n",
    "                viz_states.append((child[0].state,child[0].env))\n",
    "            elif k == 1 and j == 'Clean':\n",
    "                child = create_nodes_from_move(root,\"Clean\", False, \"SOLVED\")\n",
    "                tuple1 = (child[0].state,child[0].env)\n",
    "                if tuple1 in viz_states:\n",
    "                    child = create_nodes_from_move(root,\"Clean\", False, \"CYCLE\")\n",
    "                viz_states.append((child[0].state,child[0].env))\n",
    "                if env_clean(child[0].env):\n",
    "                    print('end')\n",
    "        print('viz_states:',viz_states)\n",
    "    print_tree(root, False)\n",
    "\n",
    "\n",
    "    \n",
    "create_tree(root,viz_states,True)\n",
    "print('Until here - the exercise')\n",
    "print('--------------------------------')\n",
    "def create_beautiful_tree(root):\n",
    "    child1 = create_nodes_from_move(root,\"Right\",True,\"SOLVED\")\n",
    "    child99 = create_nodes_from_move(root,\"Clean\", False,\"SOLVED\")\n",
    "    create_nodes_from_move(child1[0],\"Left\",True,\"CYCLE\")\n",
    "    child2 = create_nodes_from_move(child1[0],\"Clean\",True,\"SOLVED\")\n",
    "    child3 = create_nodes_from_move(child2[0],\"Left\",True,\"SOLVED\")\n",
    "    child4 = create_nodes_from_move(child3[0],\"Right\",True, \"CYCLE\")\n",
    "    child5 = create_nodes_from_move(child3[0],\"Clean\",True, \"SOLVED\")\n",
    "    child6 = create_nodes_from_move(child2[0],\"Clean\", False, \"FAIL\")\n",
    "    \n",
    "    child7 = create_nodes_from_move(child99[0],\"Right\") #Bored \n",
    "    child8 = create_nodes_from_move(child99[0],\"Clean\",False)\n",
    "    child9 = create_nodes_from_move(child7[0],\"Left\")\n",
    "    child11 = create_nodes_from_move(child7[0],\"Clean\")\n",
    "    child10 = create_nodes_from_move(child7[0],\"Right\")\n",
    "    print_tree(root,False)\n",
    "    \n",
    "create_beautiful_tree(root)\n",
    "\n",
    "\n",
    "\n",
    "\n",
    "\n",
    "\n",
    "\n"
   ]
  }
 ],
 "metadata": {
  "colab": {
   "collapsed_sections": [],
   "name": "Lab04_AI.ipynb",
   "provenance": []
  },
  "kernelspec": {
   "display_name": "Python 3 (ipykernel)",
   "language": "python",
   "name": "python3"
  },
  "language_info": {
   "codemirror_mode": {
    "name": "ipython",
    "version": 3
   },
   "file_extension": ".py",
   "mimetype": "text/x-python",
   "name": "python",
   "nbconvert_exporter": "python",
   "pygments_lexer": "ipython3",
   "version": "3.9.2"
  }
 },
 "nbformat": 4,
 "nbformat_minor": 4
}
