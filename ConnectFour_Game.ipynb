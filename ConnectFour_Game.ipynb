{
 "cells": [
  {
   "cell_type": "markdown",
   "metadata": {
    "id": "0Y435U2gHFou"
   },
   "source": [
    "# Connect Four\n"
   ]
  },
  {
   "cell_type": "markdown",
   "metadata": {
    "id": "LSIproEOHFox"
   },
   "source": [
    "## Monte Carlo Tree Search"
   ]
  },
  {
   "cell_type": "code",
   "execution_count": 1,
   "metadata": {
    "id": "HYegED8VHFo1"
   },
   "outputs": [],
   "source": [
    "from collections import defaultdict\n",
    "import random\n",
    "import math\n",
    "import functools "
   ]
  },
  {
   "cell_type": "markdown",
   "metadata": {
    "id": "OG9nodJMHFpA"
   },
   "source": [
    "### Class Board"
   ]
  },
  {
   "cell_type": "code",
   "execution_count": 16,
   "metadata": {
    "id": "s2_TQLz1HFpB"
   },
   "outputs": [],
   "source": [
    "class Board(defaultdict):\n",
    "    empty = '.'\n",
    "    used = '#'\n",
    "    \n",
    "    def __init__(self, width=8, height=8, to_move=None, **kwds):\n",
    "        self.__dict__.update(width=width, height=height, to_move=to_move, **kwds)\n",
    " \n",
    "    def __missing__(self, pos):\n",
    "        (x,y) = pos\n",
    "        if (x>=0) and (y>=0) and (x<self.width) and (y<self.height):\n",
    "            return self.empty\n",
    "        else:\n",
    "            return self.used  \n",
    "            \n",
    "    def __hash__(self): \n",
    "        return hash(tuple(sorted(self.items()))) + hash(self.current_player)\n",
    "    \n",
    "    def __repr__(self):\n",
    "        def row(y): \n",
    "            return ' '.join(self[x, y] for x in range(self.width))\n",
    "        return '\\n'.join(map(row, range(self.height))) +  '\\n'\n",
    "        \n",
    "    def update_board(self, changes: dict, **kwds) -> 'Board':\n",
    "        board = Board(width=self.width, height=self.height, **kwds)\n",
    "        board.update(self)\n",
    "        board.update(changes)\n",
    "        return board"
   ]
  },
  {
   "cell_type": "code",
   "execution_count": 17,
   "metadata": {
    "id": "WAjRD0InHFpT"
   },
   "outputs": [],
   "source": [
    "def k_in_row(board, player, square, k):\n",
    "    \n",
    "    def in_row(x,y,xpos,ypos):\n",
    "        if board[x,y] != player:\n",
    "            return 0\n",
    "        else:\n",
    "            return 1 + in_row(x + xpos, y + ypos,xpos,ypos)\n",
    "    \n",
    "    \n",
    "    lista = [] \n",
    "    for xpos, ypos in (1, 1),(0, 1),(1, 0),(1, -1):  \n",
    "        lista.append(in_row(*square, xpos, ypos) + in_row(*square, -xpos, -ypos) - 1 >= k) \n",
    "    for i in lista:\n",
    "        if i:\n",
    "            return True\n",
    "    return False "
   ]
  },
  {
   "cell_type": "code",
   "execution_count": 18,
   "metadata": {
    "id": "fhzT-HFtHFpL"
   },
   "outputs": [],
   "source": [
    "class TicTacToe():\n",
    "    def __init__(self, height=3, width=3, k=3):\n",
    "        self.k = k\n",
    "        self.squares = {(x, y) for x in range(width) for y in range(height)}\n",
    "        self.initial = Board(height=height, width=width, to_move='X', utility=0)\n",
    " \n",
    "    def to_move(self, board):\n",
    "        return self.squares - set(board)\n",
    "    \n",
    "    def utility(self, board, player):\n",
    "        if player == 'X':\n",
    "            return board.utility \n",
    "        elif player == 'O':\n",
    "            return -board.utility\n",
    "        else:\n",
    "            return 0\n",
    " \n",
    "    def make_move(self, board, square):\n",
    "        player = board.to_move\n",
    "        if player == 'O':\n",
    "            board = board.update_board({square: player}, to_move='X')\n",
    "        else:\n",
    "            board = board.update_board({square: player}, to_move='O')\n",
    "        win = k_in_row(board, player, square, self.k)\n",
    "        if win:\n",
    "            if player == 'X':\n",
    "                board.utility = 1\n",
    "            else:\n",
    "                board.utility = -1\n",
    "            \n",
    "        else:\n",
    "            board.utility = 0\n",
    "        \n",
    "        return board\n",
    " \n",
    " \n",
    "    def end(self, board):\n",
    "        if (board.utility != 0) or (len(self.squares)==len(board)):\n",
    "            return True\n",
    "        else:\n",
    "            return False\n",
    " \n",
    "    def draw_board(self, board):\n",
    "        print(board) \n",
    "\n",
    "\n"
   ]
  },
  {
   "cell_type": "code",
   "execution_count": 5,
   "metadata": {
    "id": "9rHMCuK6HFpw"
   },
   "outputs": [],
   "source": [
    "def random_player(game, state):\n",
    "    return random.choice(list(game.actions(state)))"
   ]
  },
  {
   "cell_type": "code",
   "execution_count": 19,
   "metadata": {
    "id": "hB10fKbVHFpq"
   },
   "outputs": [],
   "source": [
    "def player(search_algorithm):\n",
    "    return lambda game, state: search_algorithm(game, state)[1]"
   ]
  },
  {
   "cell_type": "code",
   "execution_count": 7,
   "metadata": {
    "id": "x1MYeB_aHFpb"
   },
   "outputs": [],
   "source": [
    "def play_game(game, strategies: dict):\n",
    "    state = game.initial\n",
    "    while game.end(state)==False:\n",
    "        player = state.to_move\n",
    "        move = strategies[player](game, state)\n",
    "        state = game.make_move(state, move)\n",
    "    return state"
   ]
  },
  {
   "cell_type": "code",
   "execution_count": 20,
   "metadata": {
    "id": "CPmxwBVoHFpk"
   },
   "outputs": [],
   "source": [
    "class ConnectFour(TicTacToe):\n",
    "    \n",
    "    def __init__(self): \n",
    "        super().__init__(height=6, width=7, k=4)\n",
    "    def actions(self, board):\n",
    "        return {(x, y) for (x, y) in self.squares - set(board)\n",
    "                if y == board.height - 1 or (x, y + 1) in board}"
   ]
  },
  {
   "cell_type": "markdown",
   "metadata": {
    "id": "qFzeCI7QHFp1"
   },
   "source": [
    "### MCTS Algorithm"
   ]
  },
  {
   "cell_type": "code",
   "execution_count": 9,
   "metadata": {
    "id": "NBX3Y24SHFp2",
    "outputId": "341df910-35c4-4265-a70e-6ec7465d3226"
   },
   "outputs": [],
   "source": [
    "class MTS_Node:\n",
    "    def __init__(self, parent=None, state=None, U=0, N=0):\n",
    "        self.__dict__.update(parent=parent, state=state,U=U, N=N)\n",
    "        self.children = {}\n",
    "        self.actions = None"
   ]
  },
  {
   "cell_type": "code",
   "execution_count": 10,
   "metadata": {},
   "outputs": [],
   "source": [
    "def best_child(n, C=1.4):\n",
    "    return (float('inf') if n.N == 0 else\n",
    "        n.U / n.N + C * math.sqrt(math.log(n.parent.N)/n.N))"
   ]
  },
  {
   "cell_type": "code",
   "execution_count": 21,
   "metadata": {},
   "outputs": [],
   "source": [
    "def monte_carlo_tree_search(state, game, N=1000):\n",
    "    def select(node):\n",
    "        if node.children:\n",
    "            return select(max(node.children.keys(), key=best_child))  \n",
    "        else:\n",
    "            return node \n",
    " \n",
    "    def expand(node):\n",
    "        if not node.children and not game.end(node.state):\n",
    "            node.children = {MTS_Node(state=game.make_move(node.state, action), parent=node): action\n",
    "                          for action in game.actions(node.state)}\n",
    "        return select(node)  \n",
    " \n",
    "    def UCT_search(game, state):\n",
    "        player = game.to_move(state)\n",
    "        while not game.end(state):\n",
    "            action = random.choice(list(game.actions(state)))\n",
    "            state = game.make_move(state, action)\n",
    "        v = game.utility(state, player)\n",
    "        return -v\n",
    " \n",
    "    def backup(n, utility):  \n",
    "        if utility > 0:\n",
    "            n.U += utility\n",
    "        n.N += 1\n",
    "        if n.parent:\n",
    "            backup(n.parent, -utility)\n",
    " \n",
    "    root = MTS_Node(state=state)\n",
    " \n",
    "    for _ in range(N):\n",
    "        leaf = select(root)\n",
    "        child = expand(leaf)\n",
    "        result = UCT_search(game, child.state)\n",
    "        backup(child, result)\n",
    " \n",
    "    max_state = max(root.children, key=lambda p: p.N)\n",
    " \n",
    "    return root.children.get(max_state)"
   ]
  },
  {
   "cell_type": "code",
   "execution_count": 22,
   "metadata": {},
   "outputs": [],
   "source": [
    "def query_player(game, state):\n",
    "    print(\"Move writing the input in the format (x, y). To exit the game enter character\")\n",
    "    print(\"current state:\")\n",
    "    game.draw_board(state)\n",
    "    print(\"Legal Move: {}\".format(game.actions(state)))\n",
    "    print(\"\")\n",
    "    move = None\n",
    "    if game.actions(state):\n",
    "        move_string = input('Move: ')\n",
    "        try:\n",
    "            move = eval(move_string)\n",
    "        except NameError:\n",
    "            move = move_string\n",
    "    else:\n",
    "        print('Illegal')\n",
    "    return move"
   ]
  },
  {
   "cell_type": "code",
   "execution_count": 23,
   "metadata": {},
   "outputs": [],
   "source": [
    "def monte_carlo_player(game, state):\n",
    "    return monte_carlo_tree_search(state, game)"
   ]
  },
  {
   "cell_type": "code",
   "execution_count": 24,
   "metadata": {},
   "outputs": [
    {
     "data": {
      "text/plain": [
       "1"
      ]
     },
     "execution_count": 24,
     "metadata": {},
     "output_type": "execute_result"
    }
   ],
   "source": [
    "play_game(ConnectFour(), dict(X=random_player, O=monte_carlo_player)).utility"
   ]
  },
  {
   "cell_type": "code",
   "execution_count": 15,
   "metadata": {},
   "outputs": [
    {
     "name": "stdout",
     "output_type": "stream",
     "text": [
      "Move writing the input in the format (x, y). To exit the game enter character\n",
      "current state:\n",
      ". . . . . . .\n",
      ". . . . . . .\n",
      ". . . . . . .\n",
      ". . . . . . .\n",
      ". . . . . . .\n",
      ". . . . . . .\n",
      "\n",
      "Legal Move: {(5, 5), (6, 5), (1, 5), (4, 5), (0, 5), (2, 5), (3, 5)}\n",
      "\n"
     ]
    },
    {
     "name": "stdin",
     "output_type": "stream",
     "text": [
      "Move:  (5,5)\n"
     ]
    },
    {
     "name": "stdout",
     "output_type": "stream",
     "text": [
      "Move writing the input in the format (x, y). To exit the game enter character\n",
      "current state:\n",
      ". . . . . . .\n",
      ". . . . . . .\n",
      ". . . . . . .\n",
      ". . . . . . .\n",
      ". . . . . . .\n",
      ". . . . . X O\n",
      "\n",
      "Legal Move: {(1, 5), (5, 4), (6, 4), (4, 5), (0, 5), (2, 5), (3, 5)}\n",
      "\n"
     ]
    },
    {
     "name": "stdin",
     "output_type": "stream",
     "text": [
      "Move:  (5,4)\n"
     ]
    },
    {
     "name": "stdout",
     "output_type": "stream",
     "text": [
      "Move writing the input in the format (x, y). To exit the game enter character\n",
      "current state:\n",
      ". . . . . . .\n",
      ". . . . . . .\n",
      ". . . . . . .\n",
      ". . . . . . .\n",
      ". . . . . X .\n",
      ". O . . . X O\n",
      "\n",
      "Legal Move: {(6, 4), (1, 4), (4, 5), (0, 5), (5, 3), (2, 5), (3, 5)}\n",
      "\n"
     ]
    },
    {
     "name": "stdin",
     "output_type": "stream",
     "text": [
      "Move:  (6,4)\n"
     ]
    },
    {
     "name": "stdout",
     "output_type": "stream",
     "text": [
      "Move writing the input in the format (x, y). To exit the game enter character\n",
      "current state:\n",
      ". . . . . . .\n",
      ". . . . . . .\n",
      ". . . . . . .\n",
      ". . . . . . .\n",
      ". O . . . X X\n",
      ". O . . . X O\n",
      "\n",
      "Legal Move: {(4, 5), (6, 3), (0, 5), (5, 3), (2, 5), (1, 3), (3, 5)}\n",
      "\n"
     ]
    },
    {
     "name": "stdin",
     "output_type": "stream",
     "text": [
      "Move:  (6,3)\n"
     ]
    },
    {
     "name": "stdout",
     "output_type": "stream",
     "text": [
      "Move writing the input in the format (x, y). To exit the game enter character\n",
      "current state:\n",
      ". . . . . . .\n",
      ". . . . . . .\n",
      ". . . . . . O\n",
      ". . . . . . X\n",
      ". O . . . X X\n",
      ". O . . . X O\n",
      "\n",
      "Legal Move: {(6, 1), (4, 5), (0, 5), (5, 3), (2, 5), (1, 3), (3, 5)}\n",
      "\n"
     ]
    },
    {
     "name": "stdin",
     "output_type": "stream",
     "text": [
      "Move:  (4,5)\n"
     ]
    },
    {
     "name": "stdout",
     "output_type": "stream",
     "text": [
      "Move writing the input in the format (x, y). To exit the game enter character\n",
      "current state:\n",
      ". . . . . . .\n",
      ". . . . . . .\n",
      ". . . . . . O\n",
      ". . . . . . X\n",
      ". O . . O X X\n",
      ". O . . X X O\n",
      "\n",
      "Legal Move: {(4, 3), (6, 1), (0, 5), (5, 3), (2, 5), (1, 3), (3, 5)}\n",
      "\n"
     ]
    },
    {
     "name": "stdin",
     "output_type": "stream",
     "text": [
      "Move:  (5,3)\n"
     ]
    },
    {
     "name": "stdout",
     "output_type": "stream",
     "text": [
      "Move writing the input in the format (x, y). To exit the game enter character\n",
      "current state:\n",
      ". . . . . . .\n",
      ". . . . . . .\n",
      ". . . . . . O\n",
      ". . . . O X X\n",
      ". O . . O X X\n",
      ". O . . X X O\n",
      "\n",
      "Legal Move: {(6, 1), (4, 2), (0, 5), (2, 5), (1, 3), (3, 5), (5, 2)}\n",
      "\n"
     ]
    },
    {
     "name": "stdin",
     "output_type": "stream",
     "text": [
      "Move:  (6,1)\n"
     ]
    },
    {
     "name": "stdout",
     "output_type": "stream",
     "text": [
      "Move writing the input in the format (x, y). To exit the game enter character\n",
      "current state:\n",
      ". . . . . . .\n",
      ". . . . . . X\n",
      ". . . . O . O\n",
      ". . . . O X X\n",
      ". O . . O X X\n",
      ". O . . X X O\n",
      "\n",
      "Legal Move: {(4, 1), (0, 5), (6, 0), (2, 5), (1, 3), (3, 5), (5, 2)}\n",
      "\n"
     ]
    },
    {
     "name": "stdin",
     "output_type": "stream",
     "text": [
      "Move:  (6,0)\n"
     ]
    },
    {
     "data": {
      "text/plain": [
       "-1"
      ]
     },
     "execution_count": 15,
     "metadata": {},
     "output_type": "execute_result"
    }
   ],
   "source": [
    "play_game(ConnectFour(), dict(X=query_player, O=monte_carlo_player)).utility"
   ]
  }
 ],
 "metadata": {
  "colab": {
   "collapsed_sections": [],
   "name": "Lab06_AI.ipynb",
   "provenance": []
  },
  "kernelspec": {
   "display_name": "Python 3 (ipykernel)",
   "language": "python",
   "name": "python3"
  },
  "language_info": {
   "codemirror_mode": {
    "name": "ipython",
    "version": 3
   },
   "file_extension": ".py",
   "mimetype": "text/x-python",
   "name": "python",
   "nbconvert_exporter": "python",
   "pygments_lexer": "ipython3",
   "version": "3.9.2"
  }
 },
 "nbformat": 4,
 "nbformat_minor": 4
}
