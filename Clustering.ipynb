{
 "cells": [
  {
   "cell_type": "markdown",
   "metadata": {
    "id": "xCzTgGzfvNQ8"
   },
   "source": [
    "# Hierarchical Clustering and K-Means"
   ]
  },
  {
   "cell_type": "code",
   "execution_count": 1,
   "metadata": {
    "id": "TebPsEWIvNRJ"
   },
   "outputs": [],
   "source": [
    "from sklearn.cluster import AgglomerativeClustering \n",
    "import sklearn as sk\n",
    "import numpy as np\n",
    "import sklearn.cluster as cluster\n",
    "import matplotlib.pyplot as plt"
   ]
  },
  {
   "cell_type": "code",
   "execution_count": 2,
   "metadata": {
    "id": "Ghr9bQh1vNRK"
   },
   "outputs": [],
   "source": [
    "X = np.array([[1, 2], [1, 4], [1, 0],\n",
    "              [4, 2], [4, 4], [4, 0]])"
   ]
  },
  {
   "cell_type": "code",
   "execution_count": 3,
   "metadata": {
    "id": "7QWYS3VxvNRK",
    "outputId": "8a694a38-bb0d-430e-a342-86fd89176cc1"
   },
   "outputs": [
    {
     "data": {
      "text/plain": [
       "array([[1, 2],\n",
       "       [1, 4],\n",
       "       [1, 0],\n",
       "       [4, 2],\n",
       "       [4, 4],\n",
       "       [4, 0]])"
      ]
     },
     "execution_count": 3,
     "metadata": {},
     "output_type": "execute_result"
    }
   ],
   "source": [
    "X"
   ]
  },
  {
   "cell_type": "code",
   "execution_count": 4,
   "metadata": {
    "id": "uc1kUr8tvNRM",
    "outputId": "e8c91f4e-da08-4cc2-e89f-3cccf0445772"
   },
   "outputs": [
    {
     "data": {
      "text/plain": [
       "<matplotlib.collections.PathCollection at 0x153d1d14bb0>"
      ]
     },
     "execution_count": 4,
     "metadata": {},
     "output_type": "execute_result"
    },
    {
     "data": {
      "image/png": "[encoded data removed]",
      "text/plain": [
       "<Figure size 432x288 with 1 Axes>"
      ]
     },
     "metadata": {
      "needs_background": "light"
     },
     "output_type": "display_data"
    }
   ],
   "source": [
    "plt.scatter(X[:,0], X[:,1])"
   ]
  },
  {
   "cell_type": "code",
   "execution_count": 5,
   "metadata": {
    "id": "De8NQ3arvNRN"
   },
   "outputs": [],
   "source": [
    "aggl_model_demo = AgglomerativeClustering().fit(X)"
   ]
  },
  {
   "cell_type": "code",
   "execution_count": 6,
   "metadata": {
    "id": "4FpJVXKEvNRN",
    "outputId": "fb533933-f1ea-49fd-9e83-daa54f4fe78b"
   },
   "outputs": [
    {
     "data": {
      "text/plain": [
       "AgglomerativeClustering()"
      ]
     },
     "execution_count": 6,
     "metadata": {},
     "output_type": "execute_result"
    }
   ],
   "source": [
    "aggl_model_demo"
   ]
  },
  {
   "cell_type": "code",
   "execution_count": 7,
   "metadata": {
    "id": "sTT04D4DvNRO",
    "outputId": "c5b8a641-2075-47bd-874e-648795f6aa67"
   },
   "outputs": [
    {
     "data": {
      "text/plain": [
       "array([1, 1, 1, 0, 0, 0], dtype=int64)"
      ]
     },
     "execution_count": 7,
     "metadata": {},
     "output_type": "execute_result"
    }
   ],
   "source": [
    "aggl_model_demo.labels_"
   ]
  },
  {
   "cell_type": "code",
   "execution_count": 8,
   "metadata": {
    "id": "p-6qoyEZvNRO",
    "outputId": "39704dd8-3193-47ee-f028-2ae0e78afca3"
   },
   "outputs": [
    {
     "data": {
      "text/plain": [
       "<matplotlib.collections.PathCollection at 0x153d4d0f460>"
      ]
     },
     "execution_count": 8,
     "metadata": {},
     "output_type": "execute_result"
    },
    {
     "data": {
      "image/png": "[encoded data removed]",
      "text/plain": [
       "<Figure size 432x288 with 1 Axes>"
      ]
     },
     "metadata": {
      "needs_background": "light"
     },
     "output_type": "display_data"
    }
   ],
   "source": [
    "plt.scatter(X[:,0], X[:,1])\n",
    "plt.scatter(X[aggl_model_demo.labels_,0], X[aggl_model_demo.labels_,1], c='r')"
   ]
  },
  {
   "cell_type": "markdown",
   "metadata": {
    "id": "SAe2ezmrvNRP"
   },
   "source": [
    "### Task 0"
   ]
  },
  {
   "cell_type": "code",
   "execution_count": null,
   "metadata": {
    "id": "nHA0EIJOvNRQ"
   },
   "outputs": [],
   "source": [
    "data_txt = np.loadtxt('data.txt', usecols=(0, 1), skiprows=1)"
   ]
  },
  {
   "cell_type": "code",
   "execution_count": null,
   "metadata": {
    "id": "d0R7g5IQvNRQ",
    "outputId": "dae550dc-d6f4-4e17-8d31-4009d0eb978e"
   },
   "outputs": [],
   "source": [
    "X = data_txt"
   ]
  },
  {
   "cell_type": "code",
   "execution_count": 10,
   "metadata": {
    "id": "i1F7oYucvNRR",
    "outputId": "5e821a4c-3daa-42cd-d4d6-91c07927d39b"
   },
   "outputs": [
    {
     "data": {
      "text/plain": [
       "<matplotlib.collections.PathCollection at 0x153d501a7c0>"
      ]
     },
     "execution_count": 10,
     "metadata": {},
     "output_type": "execute_result"
    },
    {
     "data": {
      "image/png": "[encoded data removed]",
      "text/plain": [
       "<Figure size 432x288 with 1 Axes>"
      ]
     },
     "metadata": {
      "needs_background": "light"
     },
     "output_type": "display_data"
    }
   ],
   "source": [
    "plt.scatter(X[:,0], X[:,1])"
   ]
  },
  {
   "cell_type": "code",
   "execution_count": null,
   "metadata": {
    "id": "D8D2rp1lvNRR"
   },
   "outputs": [],
   "source": [
    "model = AgglomerativeClustering(n_clusters = 15, affinity = 'euclidean', linkage = 'ward')\n",
    "\n",
    "y_predict = model.fit_predict(X)\n",
    "\n",
    "labels = y_predict\n",
    "for value in range(max(labels)):\n",
    "    indexes = []\n",
    "    for ax,par in enumerate(labels):\n",
    "        if par==value:\n",
    "            indexes.append(ax)\n",
    "    plt.scatter(X[indexes,0], X[indexes,1])\n",
    "plt.show()    \n",
    "    \n",
    "model1 = AgglomerativeClustering(n_clusters = 15, affinity = 'manhattan', linkage = 'complete')\n",
    "\n",
    "y_predict = model1.fit_predict(X)\n",
    "\n",
    "labels = y_predict\n",
    "for value in range(max(labels)):\n",
    "    indexes = []\n",
    "    for ax,par in enumerate(labels):\n",
    "        if par==value:\n",
    "            indexes.append(ax)\n",
    "    plt.scatter(X[indexes,0], X[indexes,1])\n",
    "plt.show() \n",
    "\n",
    "model2 = AgglomerativeClustering(n_clusters = 15, affinity = 'euclidean', linkage = 'complete')\n",
    "\n",
    "y_predict = model2.fit_predict(X)\n",
    "\n",
    "labels = y_predict\n",
    "for value in range(max(labels)):\n",
    "    indexes = []\n",
    "    for ax,par in enumerate(labels):\n",
    "        if par==value:\n",
    "            indexes.append(ax)\n",
    "    plt.scatter(X[indexes,0], X[indexes,1])\n",
    "plt.show() "
   ]
  },
  {
   "cell_type": "code",
   "execution_count": null,
   "metadata": {
    "id": "1B24FYWxvNRS",
    "outputId": "5649150d-1d2d-4cbf-c65e-30b0ba138bba"
   },
   "outputs": [],
   "source": [
    "from sklearn.neighbors import NearestCentroid\n",
    "clf = NearestCentroid()\n",
    "clf.fit(X, y_predict)\n",
    "\n",
    "print('Centroids:')\n",
    "print(clf)"
   ]
  },
  {
   "cell_type": "code",
   "execution_count": 97,
   "metadata": {
    "id": "btMMZ_rpvNRT"
   },
   "outputs": [],
   "source": [
    "unique_labels = np.unique(labels)\n",
    "\n",
    "for i in unique_labels:\n",
    "    clf = NearestCentroid()\n",
    "    clf.fit(X, y_predict)"
   ]
  },
  {
   "cell_type": "code",
   "execution_count": 98,
   "metadata": {
    "id": "Y9mo4rBXvNRV"
   },
   "outputs": [],
   "source": [
    "X = np.loadtxt('data.txt', usecols=(0, 1), skiprows=1)"
   ]
  },
  {
   "cell_type": "code",
   "execution_count": 105,
   "metadata": {
    "id": "hnVQ8K93vNRW"
   },
   "outputs": [
    {
     "data": {
      "image/png": "[encoded data removed]",
      "text/plain": [
       "<Figure size 432x288 with 1 Axes>"
      ]
     },
     "metadata": {
      "needs_background": "light"
     },
     "output_type": "display_data"
    }
   ],
   "source": [
    "plt.scatter(X[:,0], X[:,1])\n",
    "model2 = AgglomerativeClustering(n_clusters = 15, affinity = 'euclidean', linkage = 'ward')\n",
    "\n",
    "y_predict = model2.fit_predict(X)\n",
    "\n",
    "labels = y_predict\n",
    "for value in range(max(labels)):\n",
    "    indexes = []\n",
    "    for ax,par in enumerate(labels):\n",
    "        if par==value:\n",
    "            indexes.append(ax)\n",
    "    plt.scatter(X[indexes,0], X[indexes,1])\n",
    "plt.show() "
   ]
  }
 ],
 "metadata": {
  "colab": {
   "collapsed_sections": [],
   "name": "Lab12_AI.ipynb",
   "provenance": []
  },
  "kernelspec": {
   "display_name": "Python 3 (ipykernel)",
   "language": "python",
   "name": "python3"
  },
  "language_info": {
   "codemirror_mode": {
    "name": "ipython",
    "version": 3
   },
   "file_extension": ".py",
   "mimetype": "text/x-python",
   "name": "python",
   "nbconvert_exporter": "python",
   "pygments_lexer": "ipython3",
   "version": "3.9.2"
  }
 },
 "nbformat": 4,
 "nbformat_minor": 4
}
