{
 "cells": [
  {
   "cell_type": "markdown",
   "metadata": {},
   "source": [
    "# First Order Predicate Logic"
   ]
  },
  {
   "cell_type": "markdown",
   "metadata": {},
   "source": [
    "### Task 0\n"
   ]
  },
  {
   "cell_type": "code",
   "execution_count": 2,
   "metadata": {},
   "outputs": [],
   "source": [
    "from operator import add\n",
    "from LPTester import test_batch\n",
    "\n",
    "CONSTANT = 'constant'\n",
    "VARIABLE = 'variable'\n",
    "FUNCTION = 'function'\n",
    "ATOM = 'atom'\n",
    "FORMULA = 'formula'\n",
    "NEG = 'not'\n",
    "OR = 'or'\n",
    "AND = 'and'"
   ]
  },
  {
   "cell_type": "code",
   "execution_count": 4,
   "metadata": {},
   "outputs": [],
   "source": [
    "def make_const(value):\n",
    "    return [CONSTANT, value]\n",
    "def make_var(name):\n",
    "    return [VARIABLE, name, None]\n",
    "def make_function_call(function, *args):\n",
    "    return [FUNCTION, function, list(args)]\n",
    "def make_atom(predicate, *args):\n",
    "    return [FORMULA, ATOM, predicate, list(args)]\n",
    "def make_neg(sentence):\n",
    "    return [FORMULA, NEG, [sentence]]\n",
    "def make_and(sentence1, sentence2, *others):\n",
    "    return [FORMULA, AND, [sentence1, sentence2] + list(others)]\n",
    "def make_or(sentence1, sentence2, *others):\n",
    "    return [FORMULA, OR, [sentence1, sentence2] + list(others)]\n",
    "def replace_args(formula, new_args):\n",
    "    if formula[0] == FUNCTION:\n",
    "        return [FUNCTION, formula[1], list(new_args)]\n",
    "    elif formula[0] == FORMULA:\n",
    "        if formula[1] == ATOM:\n",
    "            return [FORMULA, ATOM, formula[2], list(new_args)]\n",
    "        else:\n",
    "            return [formula[0], formula[1], list(new_args)]\n",
    "    return formula"
   ]
  },
  {
   "cell_type": "code",
   "execution_count": 5,
   "metadata": {},
   "outputs": [
    {
     "name": "stdout",
     "output_type": "stream",
     "text": [
      ">>> Test batch [0]\n",
      "Test 0: OK\n",
      "Test 1: OK\n",
      "Test 2: OK\n",
      "Test 3: OK\n",
      "Test 4: OK\n",
      "Test 5: OK\n",
      "Test 6: OK\n",
      "Test 7: OK\n",
      "Test 8: OK\n",
      "Test 9: OK\n",
      "Test 10: OK\n",
      "Test 11: OK\n",
      "Test 12: OK\n",
      "Test 13: OK\n",
      "Test 14: OK\n",
      "Test 15: OK\n",
      "Test 16: OK\n",
      "Test 17: OK\n",
      "Test 18: OK\n",
      "Test 19: OK\n",
      "Test 20: OK\n",
      "Test 21: OK\n",
      "Test 22: OK\n",
      "Test 23: OK\n",
      "Test 24: OK\n",
      "Test 25: OK\n",
      "Test 26: OK\n",
      "Test 27: OK\n",
      "Test 28: OK\n",
      "Test 29: OK\n",
      "Test 30: OK\n",
      "Test 31: OK\n",
      "Test 32: OK\n",
      ">>>  33 / 33 tests successful.\n",
      ">>> Test batch [0]\n",
      "Test 0: OK\n",
      "Test 1: OK\n",
      "Test 2: OK\n",
      "Test 3: OK\n",
      "Test 4: OK\n",
      "Test 5: OK\n",
      "Test 6: OK\n",
      "Test 7: OK\n",
      "Test 8: OK\n",
      "Test 9: OK\n",
      "Test 10: OK\n",
      "Test 11: OK\n",
      "Test 12: OK\n",
      "Test 13: OK\n",
      "Test 14: OK\n",
      "Test 15: OK\n",
      "Test 16: OK\n",
      "Test 17: OK\n",
      "Test 18: OK\n",
      "Test 19: OK\n",
      "Test 20: OK\n",
      "Test 21: OK\n",
      "Test 22: OK\n",
      "Test 23: OK\n",
      "Test 24: OK\n",
      "Test 25: OK\n",
      "Test 26: OK\n",
      "Test 27: OK\n",
      "Test 28: OK\n",
      "Test 29: OK\n",
      "Test 30: OK\n",
      "Test 31: OK\n",
      "Test 32: OK\n",
      ">>>  33 / 33 tests successful.\n"
     ]
    }
   ],
   "source": [
    "def is_term(f):\n",
    "    return is_constant(f) or is_variable(f) or is_function_call(f)\n",
    "def is_constant(f):\n",
    "    return f[0] == CONSTANT\n",
    "def is_variable(f):\n",
    "    return f[0] == VARIABLE\n",
    "def is_function_call(f):\n",
    "    return f[0] == FUNCTION\n",
    "def is_atom(f):\n",
    "    return f[0] == FORMULA and f[1] == ATOM\n",
    "def is_sentence(f):\n",
    "    return f[0] == FORMULA\n",
    "def has_args(f):\n",
    "    return is_function_call(f) or is_sentence(f)\n",
    "def get_value(f):\n",
    "    if is_constant(f):\n",
    "        return f[1]\n",
    "    return None\n",
    "def get_name(f):\n",
    "    if is_variable(f):\n",
    "        return f[1]\n",
    "    return None\n",
    "def get_head(f):\n",
    "    if is_function_call(f):\n",
    "        return f[1]\n",
    "    elif f[0] == FORMULA:\n",
    "        if is_atom(f):\n",
    "            return f[2]\n",
    "        else:\n",
    "            return f[1]\n",
    "    return None\n",
    "def get_args(f):\n",
    "    if is_function_call(f):\n",
    "        return f[2]\n",
    "    elif is_atom(f):\n",
    "        return f[3]\n",
    "    elif is_sentence(f):\n",
    "        return f[2]\n",
    "    return None\n",
    "\n",
    "test_batch(0, globals())\n",
    "test_batch(0, globals())"
   ]
  },
  {
   "cell_type": "code",
   "execution_count": 6,
   "metadata": {},
   "outputs": [
    {
     "name": "stdout",
     "output_type": "stream",
     "text": [
      "(and (or notP(?x) Q(?x)) T(?y, <built-in function add>[1,2]))\n"
     ]
    }
   ],
   "source": [
    "def print_formula(f, return_result = False):\n",
    "    ret = \"\"\n",
    "    if is_term(f):\n",
    "        if is_constant(f):\n",
    "            ret += str(get_value(f))\n",
    "        elif is_variable(f):\n",
    "            ret += \"?\" + get_name(f)\n",
    "        elif is_function_call(f):\n",
    "            ret += str(get_head(f)) + \"[\" + \"\".join([print_formula(arg, True) + \",\" for arg in get_args(f)])[:-1] + \"]\"\n",
    "        else:\n",
    "            ret += \"???\"\n",
    "    elif is_atom(f):\n",
    "        ret += str(get_head(f)) + \"(\" + \"\".join([print_formula(arg, True) + \", \" for arg in get_args(f)])[:-2] + \")\"\n",
    "    elif is_sentence(f):\n",
    "        args = get_args(f)\n",
    "        if len(args) == 1:\n",
    "            ret += str(get_head(f)) + print_formula(args[0], True)\n",
    "        else:\n",
    "            ret += \"(\" + str(get_head(f)) + \"\".join([\" \" + print_formula(arg, True) for arg in get_args(f)]) + \")\"\n",
    "    else:\n",
    "        ret += \"???\"\n",
    "    if return_result:\n",
    "        return ret\n",
    "    print(ret)\n",
    "    return\n",
    "formula1 = make_and(\n",
    "    make_or(make_neg(make_atom(\"P\", make_var(\"x\"))), make_atom(\"Q\", make_var(\"x\"))),\n",
    "    make_atom(\"T\", make_var(\"y\"), make_function_call(add, make_const(1), make_const(2))))\n",
    "print_formula(formula1)"
   ]
  },
  {
   "cell_type": "markdown",
   "metadata": {},
   "source": [
    "## Unification"
   ]
  },
  {
   "cell_type": "code",
   "execution_count": 7,
   "metadata": {},
   "outputs": [
    {
     "name": "stdout",
     "output_type": "stream",
     "text": [
      ">>> Test batch [1]\n",
      "Test 0: OK\n",
      "Test 1: OK\n",
      "Test 2: OK\n",
      "Test 3: OK\n",
      "Test 4: OK\n",
      ">>>  5 / 5 tests successful.\n"
     ]
    }
   ],
   "source": [
    "def substitute(f, substitution):\n",
    "    if substitution is None:\n",
    "        return None\n",
    "    if is_variable(f) and (get_name(f) in substitution):\n",
    "        return substitute(substitution[get_name(f)], substitution)\n",
    "    if has_args(f):\n",
    "        return replace_args(f, [substitute(arg, substitution) for arg in get_args(f)])\n",
    "    return f\n",
    "\n",
    "def test_formula(x, copyy = False):\n",
    "    fun = make_function_call(add, make_const(1), make_const(2))\n",
    "    return make_and(make_or(make_neg(make_atom(\"P\", make_const(x))), make_atom(\"Q\", make_const(x))), \\\n",
    "                    make_atom(\"T\", fun if copyy else make_var(\"y\"), fun))\n",
    "\n",
    "test_batch(1, globals())"
   ]
  },
  {
   "cell_type": "markdown",
   "metadata": {},
   "source": [
    "### Task 1\n"
   ]
  },
  {
   "cell_type": "markdown",
   "metadata": {
    "tags": []
   },
   "source": []
  },
  {
   "cell_type": "code",
   "execution_count": 8,
   "metadata": {},
   "outputs": [
    {
     "name": "stdout",
     "output_type": "stream",
     "text": [
      ">>> Test batch [2]\n",
      "Test 0: OK\n",
      "Test 1: OK\n",
      "Test 2: OK\n",
      "Test 3: OK\n",
      "Test 4: OK\n",
      "Test 5: OK\n",
      "Test 6: OK\n",
      ">>>  7 / 7 tests successful.\n"
     ]
    }
   ],
   "source": [
    "def occur_check(v, t, subst):\n",
    "    if v == t:\n",
    "        return True\n",
    "    if get_name(t) in subst:\n",
    "        return occur_check(v, substitute(t, subst), subst)\n",
    "    if is_function_call(t):\n",
    "        for arg in t[2]:\n",
    "            if occur_check(v, arg, subst):\n",
    "                return True\n",
    "    return False\n",
    "\n",
    "test_batch(2, globals())"
   ]
  },
  {
   "cell_type": "code",
   "execution_count": 9,
   "metadata": {},
   "outputs": [
    {
     "name": "stdout",
     "output_type": "stream",
     "text": [
      ">>> Test batch [3]\n",
      "Test 0: OK, got < False >\n",
      "Test 1: OK, got < {?x -> A} >\n",
      "Test 2: OK, got < {?x -> A} >\n",
      "Test 3: OK, got < {?x -> A} >\n",
      "Test 4: OK, got < {?x -> A} >\n",
      "Test 5: OK, got < {?x -> <built-in function add>[?Z,5]} >\n",
      "Test 6: OK, got < {?z -> C, ?y -> B, ?x -> A} >\n",
      "Test 7: OK, got < {?y -> 3, ?x -> 2} >\n",
      "Test 8: OK, got < False >\n",
      "Test 9: OK, got < False >\n",
      "Test 10: OK, got < {} >\n",
      "Test 11: OK, got < {?x -> ?y} >\n",
      "Test 12: OK, got < {?y -> ?x} >\n",
      "Test 13: OK, got < {?x -> A} >\n",
      "Test 14: OK, got < False >\n",
      "Test 15: OK, got < {?x -> A} >\n",
      "Test 16: OK, got < {?x -> A, ?z -> C, ?y -> B} >\n",
      "Test 17: OK, got < {?x -> A} >\n",
      "Test 18: OK, got < {?x -> ?y} >\n",
      "Test 19: OK, got < {?y -> ?x} >\n",
      "Test 20: OK, got < {?z -> 5, ?y -> 5, ?x -> 5} >\n",
      "Test 21: OK, got < {?z -> <built-in function add>[1,2], ?y -> 4, ?x -> 3} >\n",
      ">>>  22 / 22 tests successful.\n"
     ]
    }
   ],
   "source": [
    "def unify(f1, f2, subst = None):\n",
    "    if subst is None:\n",
    "        subst = {}\n",
    "    stack = []\n",
    "    stack.append((f1, f2))\n",
    "    while len(stack) > 0:\n",
    "        (f1, f2) = stack.pop()\n",
    "        \n",
    "        while get_name(f1) in subst:\n",
    "            f1 = substitute(f1, subst)\n",
    "        while get_name(f2) in subst:\n",
    "            f2 = substitute(f2, subst)\n",
    "        \n",
    "        if not f1 == f2:\n",
    "            if is_variable(f1):\n",
    "                if occur_check(f1, f2, subst):\n",
    "                    return False\n",
    "                else:\n",
    "                    subst[get_name(f1)] = f2\n",
    "            elif is_variable(f2):\n",
    "                if occur_check(f2, f1, subst):\n",
    "                    return False\n",
    "                else:\n",
    "                    subst[get_name(f2)] = f1\n",
    "            \n",
    "            elif has_args(f1) and has_args(f2):\n",
    "                hs = get_args(f1)\n",
    "                ht = get_args(f2)\n",
    "                \n",
    "                if get_head(f1) == get_head(f2) and len(hs) == len(ht):\n",
    "                    n = len(hs)\n",
    "                    for _ in range(n):\n",
    "                        stack.append((hs[_], ht[_]))\n",
    "                else:\n",
    "                    return False\n",
    "            else:\n",
    "                return False\n",
    "    return subst\n",
    "test_batch(3, globals())\n",
    "\n",
    "\n",
    "\n",
    "\n",
    "\n"
   ]
  },
  {
   "cell_type": "code",
   "execution_count": null,
   "metadata": {},
   "outputs": [],
   "source": []
  }
 ],
 "metadata": {
  "kernelspec": {
   "display_name": "Python 3 (ipykernel)",
   "language": "python",
   "name": "python3"
  },
  "language_info": {
   "codemirror_mode": {
    "name": "ipython",
    "version": 3
   },
   "file_extension": ".py",
   "mimetype": "text/x-python",
   "name": "python",
   "nbconvert_exporter": "python",
   "pygments_lexer": "ipython3",
   "version": "3.9.2"
  }
 },
 "nbformat": 4,
 "nbformat_minor": 4
}
