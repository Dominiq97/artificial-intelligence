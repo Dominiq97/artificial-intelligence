{
 "cells": [
  {
   "cell_type": "markdown",
   "metadata": {},
   "source": [
    "## The Basics II (Python)\n"
   ]
  },
  {
   "cell_type": "code",
   "execution_count": 1,
   "metadata": {},
   "outputs": [],
   "source": [
    "from IPython.core.display import Image, display, HTML"
   ]
  },
  {
   "cell_type": "markdown",
   "metadata": {},
   "source": [
    "### Default Arguments"
   ]
  },
  {
   "cell_type": "code",
   "execution_count": 5,
   "metadata": {},
   "outputs": [],
   "source": [
    "def volume_cone(height, radius=2.4):\n",
    "    pi = 3.14\n",
    "    return pi * radius ** 2 * height / 3"
   ]
  },
  {
   "cell_type": "code",
   "execution_count": 6,
   "metadata": {},
   "outputs": [
    {
     "name": "stdout",
     "output_type": "stream",
     "text": [
      "The volume of a cone is: 54.2592\n"
     ]
    }
   ],
   "source": [
    "v = volume_cone(height=9) \n",
    "print('The volume of a cone is: {}' .format(v))"
   ]
  },
  {
   "cell_type": "code",
   "execution_count": 7,
   "metadata": {},
   "outputs": [
    {
     "name": "stdout",
     "output_type": "stream",
     "text": [
      "The volume of a cone is: 84.78\n"
     ]
    }
   ],
   "source": [
    "v = volume_cone(9, 3) # height and radius are passed in by position\n",
    "print('The volume of a cone is: {}' .format(v))"
   ]
  },
  {
   "cell_type": "markdown",
   "metadata": {},
   "source": [
    "### Task 0"
   ]
  },
  {
   "cell_type": "code",
   "execution_count": 9,
   "metadata": {},
   "outputs": [],
   "source": [
    "def choose_researcher(name):\n",
    "    print('The researcher I am going to present for Special Task 2 is {}.' .format(name))"
   ]
  },
  {
   "cell_type": "code",
   "execution_count": 30,
   "metadata": {},
   "outputs": [
    {
     "name": "stdout",
     "output_type": "stream",
     "text": [
      "The researcher I am going to present for Special Task 2 is Marcel Ionut.\n"
     ]
    }
   ],
   "source": [
    "choose_researcher('Marcel Ionut')"
   ]
  },
  {
   "cell_type": "markdown",
   "metadata": {},
   "source": [
    "### Slicing Strings\n"
   ]
  },
  {
   "cell_type": "code",
   "execution_count": 11,
   "metadata": {},
   "outputs": [
    {
     "name": "stdout",
     "output_type": "stream",
     "text": [
      "Practice\n",
      "ecitcarP\n"
     ]
    }
   ],
   "source": [
    "s = 'Practice makes perfect!'\n",
    "first_word = s[:8]\n",
    "print(first_word)\n",
    "first_word_reversed = first_word[::-1]\n",
    "print(first_word_reversed)"
   ]
  },
  {
   "cell_type": "code",
   "execution_count": 12,
   "metadata": {},
   "outputs": [
    {
     "name": "stdout",
     "output_type": "stream",
     "text": [
      "UPPER CASE 3, lower case 52 and punctuation marks 2.\n"
     ]
    }
   ],
   "source": [
    "import string\n",
    "def compute_characters(sentence):\n",
    "    d = {'upper_ch':0,'lower_ch':0,'puncts':0}\n",
    "    for i in sentence:\n",
    "        if i.isupper():\n",
    "            d['upper_ch']+=1\n",
    "        elif i.islower():\n",
    "            d['lower_ch']+=1\n",
    "        elif i in string.punctuation:\n",
    "            d['puncts']+=1\n",
    "    \n",
    "    print(\"UPPER CASE {}, lower case {} and punctuation marks {}.\" .format(d[\"upper_ch\"], d[\"lower_ch\"], d[\"puncts\"]))\n",
    "    \n",
    "compute_characters(\"The AI journey is the perfect opportunity to expand one`s horizons.\")"
   ]
  },
  {
   "cell_type": "markdown",
   "metadata": {},
   "source": [
    "### Multiple Arguments and keyword arguments"
   ]
  },
  {
   "cell_type": "code",
   "execution_count": 10,
   "metadata": {},
   "outputs": [
    {
     "name": "stdout",
     "output_type": "stream",
     "text": [
      "9\n"
     ]
    }
   ],
   "source": [
    "def compute_sum(a, b):\n",
    "    return a + b\n",
    "print(compute_sum(4, 5))"
   ]
  },
  {
   "cell_type": "code",
   "execution_count": 11,
   "metadata": {},
   "outputs": [],
   "source": [
    "def compute_sum(*args):\n",
    "    print('Type of iterable object args {}.' .format(type(args)))\n",
    "    count = 0\n",
    "    for a in args:\n",
    "        count += a\n",
    "    return count"
   ]
  },
  {
   "cell_type": "code",
   "execution_count": 12,
   "metadata": {},
   "outputs": [
    {
     "name": "stdout",
     "output_type": "stream",
     "text": [
      "Type of iterable object args <class 'tuple'>.\n",
      "Result:  9.75\n"
     ]
    }
   ],
   "source": [
    "result = compute_sum(0.5, 2.25, 7)\n",
    "print('Result: ', result)"
   ]
  },
  {
   "cell_type": "markdown",
   "metadata": {},
   "source": [
    "### Task 1\n"
   ]
  },
  {
   "cell_type": "code",
   "execution_count": 13,
   "metadata": {},
   "outputs": [
    {
     "name": "stdout",
     "output_type": "stream",
     "text": [
      "(24, 9, 'D', 'C')\n"
     ]
    }
   ],
   "source": [
    "from datetime import date\n",
    "tuple1 = (25,9,'D','C')\n",
    "list1 = list(tuple1)\n",
    "day = date.today().day\n",
    "month = date.today().month\n",
    "list1[0]=day\n",
    "list1[1]=month\n",
    "tuple1 = tuple(list1)\n",
    "print(tuple1)"
   ]
  },
  {
   "cell_type": "code",
   "execution_count": 14,
   "metadata": {},
   "outputs": [
    {
     "name": "stdout",
     "output_type": "stream",
     "text": [
      "('AUDI', 'FERRARI', 'SKODA')\n"
     ]
    }
   ],
   "source": [
    "x = (\"AUDI\", \"BMW\", \"VW\")\n",
    "y = list(x)\n",
    "y[1] = \"FERRARI\"\n",
    "y[2] = \"SKODA\"\n",
    "x = tuple(y)\n",
    "print(x)"
   ]
  },
  {
   "cell_type": "code",
   "execution_count": 16,
   "metadata": {},
   "outputs": [
    {
     "name": "stdout",
     "output_type": "stream",
     "text": [
      "Ciprian Ionescu is interested in Web development.\n",
      "Andrei Stefan is interested in Game programming and wrote AI impact for games.\n"
     ]
    }
   ],
   "source": [
    "def Student(**kwargs): \n",
    "    if (kwargs.get('thesis') == None) or (kwargs.get('thesis') == ''):\n",
    "        print(kwargs.get('student_firstname'),kwargs.get('student_lastname'),\"is interested in\",kwargs.get('research_interest')+\".\")\n",
    "    else:\n",
    "        print(kwargs.get('student_firstname'),kwargs.get('student_lastname'),\"is interested in\",kwargs.get('research_interest'),\"and wrote\",kwargs.get('thesis')+\".\")\n",
    "Student(student_firstname ='Ciprian', student_lastname ='Ionescu', research_interest='Web development', thesis = '') \n",
    "Student(student_firstname ='Andrei', student_lastname ='Stefan', research_interest='Game programming', thesis = \"AI impact for games\") "
   ]
  },
  {
   "cell_type": "markdown",
   "metadata": {},
   "source": [
    "**The unpacking procedure**\n"
   ]
  },
  {
   "cell_type": "code",
   "execution_count": 17,
   "metadata": {},
   "outputs": [
    {
     "name": "stdout",
     "output_type": "stream",
     "text": [
      "[0, 1, 4, 9, 16]\n"
     ]
    }
   ],
   "source": [
    "numbers = [x**2 for x in range(5)]\n",
    "print(numbers)"
   ]
  },
  {
   "cell_type": "code",
   "execution_count": 18,
   "metadata": {},
   "outputs": [
    {
     "name": "stdout",
     "output_type": "stream",
     "text": [
      "0 1 4 9 16\n"
     ]
    }
   ],
   "source": [
    "print(*numbers)"
   ]
  },
  {
   "cell_type": "code",
   "execution_count": 21,
   "metadata": {},
   "outputs": [
    {
     "name": "stdout",
     "output_type": "stream",
     "text": [
      "{'student_firstname': 'Ciprian', 'student_lastname': 'Ionescu', 'research_interest': 'Web development', 'thesis': 'Web Json vs XML'}\n"
     ]
    }
   ],
   "source": [
    "def update_thesis(title, **kwargs):\n",
    "    dict1 = kwargs\n",
    "    dict2 = dict1\n",
    "    if dict2.get('thesis') == None:\n",
    "        dict2['thesis'] = title\n",
    "    dict1.update(dict2)\n",
    "    print(dict1)\n",
    "\n",
    "update_thesis(title=\"Web Json vs XML\" ,student_firstname ='Ciprian', student_lastname ='Ionescu', research_interest='Web development', thesis = None)"
   ]
  },
  {
   "cell_type": "code",
   "execution_count": 22,
   "metadata": {},
   "outputs": [
    {
     "ename": "ModuleNotFoundError",
     "evalue": "No module named 'matplotlib'",
     "output_type": "error",
     "traceback": [
      "\u001b[1;31m---------------------------------------------------------------------------\u001b[0m",
      "\u001b[1;31mModuleNotFoundError\u001b[0m                       Traceback (most recent call last)",
      "\u001b[1;32m~\\AppData\\Local\\Temp/ipykernel_308/284249350.py\u001b[0m in \u001b[0;36m<module>\u001b[1;34m\u001b[0m\n\u001b[1;32m----> 1\u001b[1;33m \u001b[1;32mimport\u001b[0m \u001b[0mmatplotlib\u001b[0m\u001b[1;33m\u001b[0m\u001b[1;33m\u001b[0m\u001b[0m\n\u001b[0m\u001b[0;32m      2\u001b[0m \u001b[1;32mimport\u001b[0m \u001b[0mmatplotlib\u001b[0m\u001b[1;33m.\u001b[0m\u001b[0mpyplot\u001b[0m \u001b[1;32mas\u001b[0m \u001b[0mplt\u001b[0m\u001b[1;33m\u001b[0m\u001b[1;33m\u001b[0m\u001b[0m\n\u001b[0;32m      3\u001b[0m \u001b[1;33m\u001b[0m\u001b[0m\n\u001b[0;32m      4\u001b[0m \u001b[0mfig\u001b[0m \u001b[1;33m=\u001b[0m \u001b[0mplt\u001b[0m\u001b[1;33m.\u001b[0m\u001b[0mfigure\u001b[0m\u001b[1;33m(\u001b[0m\u001b[1;33m)\u001b[0m\u001b[1;33m\u001b[0m\u001b[1;33m\u001b[0m\u001b[0m\n\u001b[0;32m      5\u001b[0m \u001b[0max\u001b[0m \u001b[1;33m=\u001b[0m \u001b[0mfig\u001b[0m\u001b[1;33m.\u001b[0m\u001b[0madd_subplot\u001b[0m\u001b[1;33m(\u001b[0m\u001b[1;36m111\u001b[0m\u001b[1;33m)\u001b[0m\u001b[1;33m\u001b[0m\u001b[1;33m\u001b[0m\u001b[0m\n",
      "\u001b[1;31mModuleNotFoundError\u001b[0m: No module named 'matplotlib'"
     ]
    }
   ],
   "source": [
    "import matplotlib \n",
    "import matplotlib.pyplot as plt \n",
    "\n",
    "fig = plt.figure() \n",
    "ax = fig.add_subplot(111) \n",
    "rectangle = matplotlib.patches.Rectangle((0, 200), 200, 300, color='yellow') \n",
    "ax.add_patch(rectangle)\n",
    "  \n",
    "plt.xlim([-10, 250]) \n",
    "plt.ylim([0, 600]) \n",
    "  \n",
    "plt.show()"
   ]
  },
  {
   "cell_type": "code",
   "execution_count": 23,
   "metadata": {},
   "outputs": [
    {
     "name": "stdout",
     "output_type": "stream",
     "text": [
      "[]\n",
      "[(200, 200), (0, 200), (500, 0), (200, 500)]\n"
     ]
    }
   ],
   "source": [
    "s = 'ABCD'\n",
    "points = []\n",
    "print(points)\n",
    "coord = [(200, 200), (0, 200), (500, 0), (200, 500)]\n",
    "print(coord)"
   ]
  },
  {
   "cell_type": "code",
   "execution_count": 130,
   "metadata": {},
   "outputs": [
    {
     "name": "stdout",
     "output_type": "stream",
     "text": [
      "['A', 'B', 'C', 'D']\n"
     ]
    }
   ],
   "source": [
    "for c in s:\n",
    "    points.append(c)\n",
    "print(points)"
   ]
  },
  {
   "cell_type": "code",
   "execution_count": 131,
   "metadata": {},
   "outputs": [
    {
     "name": "stdout",
     "output_type": "stream",
     "text": [
      "{'A': (200, 200), 'B': (0, 200), 'C': (500, 0), 'D': (200, 500)}\n"
     ]
    }
   ],
   "source": [
    "rectangle = dict(zip(points, coord))\n",
    "print(rectangle)"
   ]
  },
  {
   "cell_type": "markdown",
   "metadata": {},
   "source": [
    "### Task 2"
   ]
  },
  {
   "cell_type": "code",
   "execution_count": 140,
   "metadata": {},
   "outputs": [
    {
     "name": "stdout",
     "output_type": "stream",
     "text": [
      "[(200, 200), (0, 200), (500, 0), (200, 500)]\n",
      "[200, 0, 500, 200]\n",
      "[200, 200, 0, 500]\n"
     ]
    }
   ],
   "source": [
    "# Your implementation here:\n",
    "print(coord)\n",
    "xList = []\n",
    "yList = []\n",
    "for i,j in coord:\n",
    "    xList.append(i)\n",
    "    yList.append(j)\n",
    "print(xList)\n",
    "print(yList)\n"
   ]
  },
  {
   "cell_type": "markdown",
   "metadata": {},
   "source": [
    "### Task 3"
   ]
  },
  {
   "cell_type": "code",
   "execution_count": 27,
   "metadata": {},
   "outputs": [
    {
     "name": "stdout",
     "output_type": "stream",
     "text": [
      "[4.5, 5, 5.5, 6, 6.25, 7, 15.25, 18, 18.45, 21, 21.45, 23]\n"
     ]
    }
   ],
   "source": [
    "data =  [4.5, 5, 5.5, 6, 6.25, 7, 15.25, 18, 18.45, 21, 21.45, 23]\n",
    "print(data)"
   ]
  },
  {
   "cell_type": "code",
   "execution_count": 28,
   "metadata": {},
   "outputs": [
    {
     "name": "stdout",
     "output_type": "stream",
     "text": [
      "12.616666666666667\n",
      "7.167441818544622\n"
     ]
    }
   ],
   "source": [
    "import math\n",
    "mean = sum(data)/len(data)\n",
    "modulusum = 0\n",
    "for i in data:\n",
    "    modulusum += abs((i-mean)*(i-mean))\n",
    "std = math.sqrt(modulusum/len(data))\n",
    "print(mean)\n",
    "print(std)"
   ]
  },
  {
   "cell_type": "code",
   "execution_count": 29,
   "metadata": {},
   "outputs": [
    {
     "name": "stdout",
     "output_type": "stream",
     "text": [
      "[-1.132, -1.063, -0.993, -0.923, -0.888, -0.784, 0.367, 0.751, 0.814, 1.17, 1.232, 1.449]\n"
     ]
    }
   ],
   "source": [
    "import math\n",
    "def z_score(data):\n",
    "    z_score = []\n",
    "    mean = sum(data)/len(data)\n",
    "    modulusum = 0\n",
    "    for i in data:\n",
    "        modulusum += abs((i-mean)*(i-mean))\n",
    "    std = math.sqrt(modulusum/len(data))\n",
    "    for i in data:\n",
    "        z_score.append(float(\"{:.3f}\".format((i-mean)/std)))\n",
    "    return z_score\n",
    "z_score = z_score(data)\n",
    "print(z_score)"
   ]
  },
  {
   "cell_type": "code",
   "execution_count": 176,
   "metadata": {},
   "outputs": [
    {
     "name": "stdout",
     "output_type": "stream",
     "text": [
      "{4.5: -1.132, 5: -1.063, 5.5: -0.993, 6: -0.923, 6.25: -0.888, 7: -0.784, 15.25: 0.367, 18: 0.751, 18.45: 0.814, 21: 1.17, 21.45: 1.232, 23: 1.449}\n"
     ]
    }
   ],
   "source": [
    "d = dict(zip(data,z_score))\n",
    "print(d)"
   ]
  }
 ],
 "metadata": {
  "kernelspec": {
   "display_name": "Python 3 (ipykernel)",
   "language": "python",
   "name": "python3"
  },
  "language_info": {
   "codemirror_mode": {
    "name": "ipython",
    "version": 3
   },
   "file_extension": ".py",
   "mimetype": "text/x-python",
   "name": "python",
   "nbconvert_exporter": "python",
   "pygments_lexer": "ipython3",
   "version": "3.9.2"
  }
 },
 "nbformat": 4,
 "nbformat_minor": 4
}
